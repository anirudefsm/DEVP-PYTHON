{
 "cells": [
  {
   "cell_type": "markdown",
   "id": "fba5e1aa-1d21-46de-8cc4-03e814ebdf3a",
   "metadata": {},
   "source": [
    "# <span style=\"color: red; font-weight: bold\"> **Project Report on Imports and Exports Data Analysis**"
   ]
  },
  {
   "cell_type": "markdown",
   "id": "9cb4a83e-956b-4463-a9c3-6ae1ba937b9b",
   "metadata": {},
   "source": [
    "## **Project Information**\n",
    "### * **Project Title**: Comprehensive Data Analysis of Imports and Exports Dataset\n",
    "### * **Student Name**: Anirudh Gupta, Swati Kaushik\n",
    "### * **Enrollment Number** : 055003 , 055050\n",
    "### * **Project Information** : This project contains a detailed dataset and analysis of international trade transactions, providing extensive information on both imports and exports. Designed for use in business analytics, economic research, and financial modeling, it offers a broad view of trade activities with numerous attributes that capture various dimensions of each transaction."
   ]
  },
  {
   "cell_type": "markdown",
   "id": "346c317c-ba26-4eb5-baac-63e11d438999",
   "metadata": {},
   "source": [
    "# <span style=\"color: Navy; font-weight: bold\"> Description of Data\n",
    "\n",
    "* **1.Data Source & Size:**\n",
    "\n",
    "* Source: The dataset for this project was obtained from Kaggle.(https://www.kaggle.com/datasets/chakilamvishwas/imports-exports-15000)\n",
    "* Size: 15,000 records with 16 variables. (2.69 MB)\n",
    "  \n",
    "  \n",
    "* **2. Data Type:**\n",
    "This is a Cross-sectional dataset, capturing transactional data at a specific point in time.\n",
    "\n",
    "\n",
    "  **3.Data Dimension:**\n",
    "\n",
    "* Number of Variables: 16\n",
    "* Number of Observations: 15,000\n",
    "  \n",
    "  \n",
    "* **4.Data Variable Type:**\n",
    "\n",
    "* Text Variables:\n",
    "Transaction_ID, Country, Product, Import_Export, Date, Category, Port, Shipping_Method, Supplier, Customer, Payment_Terms\n",
    "* Number Variables:\n",
    "Integer: Quantity, Customs_Code, Invoice_Number\n",
    "* Decimal: Value, Weight\n",
    "\n",
    "\n",
    "* **5.Data Variable Category : Identifying Categorical (Nominal & Ordinal) and Non - Categorical Data**\n",
    "\n",
    "|Sr. No. | Data Variable | Category |\n",
    "| --- | --- | --- |\n",
    "| 1. | Transaction ID | Index (used for identifying each transaction)\n",
    "| 2. | Country | Categorical {Nominal}\n",
    "| 3. | Product | Categorical {Nominal}\n",
    "| 4. | Import Export | Categorical {Nominal}\n",
    "| 5. | Quantity | Non-Categorical\n",
    "| 6. | Value | Non-Categorical\n",
    "| 7. | Category | Categorical {Nominal}\n",
    "| 8. | Port | Categorical {Nominal}\n",
    "| 9.| Customs Code | Non-Categorical\n",
    "| 10.| Weight | Non-Categorical\n",
    "| 11.| Shipping Method | Categorical {Nominal} \n",
    "| 12.| Supplier | Categorical {Nominal} \n",
    "| 13.| Customer | Categorical {Nominal} \n",
    "| 14.| Invoice Number | Index (used for identifying each transaction)\n",
    "| 15.| Payment Terms | Categorical {Nominal}"
   ]
  },
  {
   "cell_type": "markdown",
   "id": "73e09303-31ea-44cc-a9be-cb4f564219db",
   "metadata": {},
   "source": [
    "# <span style=\"color: Navy; font-weight: bold\"> Project Objectives | Problem Statements\n",
    "\n",
    "* Objective 1: Identify key trends in import and export activities across different countries and product categories.\n",
    "* Objective 2: Understand the distribution of Dominant Product Categories.\n",
    "* Objective 3: Analyze the most frequently used shipping methods.\n",
    "* Objective 4: Find the minimum and maximum value of each variable.\n",
    "* Objective 5: Finding Average order value  and quantity per country \n",
    "* Objective 6: Finding Maximum Weight in KGs by Shipping Method and Category\n",
    "* Objective 7: Finding Count of products by their payment terms per Category\n",
    "* Objective 8: Ranking categories by the total economic impact (Value), higher value gets a higher rank\n",
    "  \n",
    "* Problem Statement 1: How do different countries vary in terms of the volume and value of imports and exports?\n",
    "* Problem Statement 2: Are there specific product categories that dominate in terms of trade volume and value?\n",
    "* Problem Statement 3: What are the most commonly used shipping methods for high-value transactions?\n",
    "* Problem Statemnet 4: Identify the range of values and outliers in the dataset\n",
    "* Problem Statemnet 5: Identify comparison of different countries in terms of purchasing behavior, helping to tailor marketing                        strategies or identify high-value markets.\n",
    "* Problem Statemnet 6: Assess which shipping methods are handling heavier products and which categories have the largest or                           heaviest product.\n",
    "* Problem Statemnet 7: Give insights into the preferred payment terms by category and can help in optimizing payment options                          for different product lines.\n",
    "* Problem Statemnet 8: Rank product categories based on their total economic impact. The categories with the highest total                            economic impact should be given the highest rank. "
   ]
  },
  {
   "cell_type": "markdown",
   "id": "0d80ec5e-c571-4799-8340-d1145e9dee1e",
   "metadata": {},
   "source": [
    "### <span style=\"color: red; font-weight: bold\"> Mean Interpretation:\n",
    "Quantity (Mean: 5051.71): On average, the dataset shows that the quantity of goods involved in the transactions is approximately 5051.71 units.\n",
    "\n",
    "Value (Mean: 4979.36): The mean value of the goods in each transaction is around 4979.36, which suggests a general average transaction value across the dataset.\n",
    "\n",
    "Weight (Mean: 2488.80): The average weight of the goods in each transaction is approximately 2488.80 units, indicating the typical weight being handled per transaction.\n",
    "\n",
    "\n",
    "### <span style=\"color: red; font-weight: bold\"> Median Interpretation:\n",
    "Quantity (Median: 5084.00): The median quantity is 5084.00 units, meaning that half of the transactions have a quantity below 5041 and the other half have a quantity above it. This indicates that most transactions revolve around this quantity.\n",
    "\n",
    "Value (Median: 4976.50): The median value is 4976.50, indicating that half of the transactions are valued below this amount, and half are above. Since the median and mean are quite close, the data may not have extreme outliers.\n",
    "\n",
    "Weight (Median: 2469.49): The median weight is 2469.49, meaning the central value of the dataset is around this number. Similar to the other variables, the mean and median are close, which suggests a fairly even distribution of data without major outliers.\n",
    "\n",
    "\n",
    "### <span style=\"color: red; font-weight: bold\"> Mode Interpretation:\n",
    "Weight (Modes: 2165.57, 2534.02, 2560.19, 4252.62):  Since there are multiple modes for the weight, this suggests that the data is multimodal, meaning there are several common weights that appear repeatedly. These weights likely correspond to specific categories or shipment types that occur frequently.\n",
    "\n",
    "In summary, the mean and median for Quantity, Value, and Weight are relatively close, suggesting that the dataset is fairly balanced without significant outliers. However, the multiple modes in Weight indicate that some weights are more common than others, potentially reflecting different types of shipments or goods being traded at various weight levels."
   ]
  },
  {
   "cell_type": "markdown",
   "id": "62723cf1-0098-4bcb-b351-e86df63d29b5",
   "metadata": {},
   "source": [
    "### <span style=\"color: red; font-weight: bold\"> Range Interpretation:\n",
    "Quantity (Range: 9980.00): The difference between the maximum and minimum quantities in the dataset is 9980 units, indicating a wide variation in the number of goods involved in each transaction.\n",
    "\n",
    "Value (Range: 9876.37): The range of values across transactions is 9876.37, which suggests significant variability in the monetary value of transactions.\n",
    "\n",
    "Weight (Range: 4987.79): The weight of goods ranges over 4987.79 units, showing that shipments can vary greatly in terms of how heavy they are.\n",
    "The range provides a quick overview of the spread in the data, but it doesn’t account for how the data is distributed between the extremes.\n",
    "\n",
    "### <span style=\"color: red; font-weight: bold\"> Standard Deviation Interpretation:\n",
    "Quantity (Standard Deviation: 2856.525391): The quantity of goods varies by about 2856.525391 units from the mean. A large standard deviation relative to the mean indicates that there is considerable variation in the quantity of goods across transactions.\n",
    "\n",
    "Value (Standard Deviation: 2868.669902): The standard deviation for transaction values is 2868.669902, meaning that the value of goods in each transaction tends to deviate from the mean by this amount. Again, this indicates significant variability in transaction values.\n",
    "\n",
    "Weight (Standard Deviation: 1441.444877): The weights of shipments tend to vary by about 1441.444877 units from the mean. This suggests moderate variability in shipment weights, though less than the variability seen in quantity and value.\n",
    "\n",
    "### <span style=\"color: red; font-weight: bold\"> Variance Interpretation:\n",
    "Quantity (Variance: 8.159737e+06): The variance for quantity is 8.16 million, which is the square of the standard deviation. This large number reflects the wide range and significant variation in quantities across transactions.\n",
    "\n",
    "Value (Variance: 8.229267e+06): The variance in the value of transactions is about 8.23 million. This again shows substantial variability in transaction values, aligned with the wide range observed.\n",
    "\n",
    "Weight (Variance: 2.077763e+06): The variance for weight is 2.07 million. This lower variance compared to quantity and value indicates that the weights are less spread out across transactions than the other two variables."
   ]
  },
  {
   "cell_type": "markdown",
   "id": "963800bd-5e5f-4f18-b971-8950d4587968",
   "metadata": {},
   "source": [
    "### <span style=\"color: red; font-weight: bold\"> Skewness Interpretation:\n",
    "All three values are very close to zero, indicating that the distributions of Quantity, Value, and Weight are approximately symmetrical.\n",
    "\n",
    "Quantity has very slight negative skewness, suggesting a very minor tendency for data to fall more frequently on the right side of the distribution.\n",
    "\n",
    "### <span style=\"color: red; font-weight: bold\"> Kurtosis Interpretation:\n",
    "Weight has a very slight negative skewness (not positive), indicating a minor tendency for data to fall more frequently on the right side of the distribution, rather than the left.\n",
    "\n",
    "All three values of kurtosis are negative, indicating that the distributions of Quantity, Value, and Weight have lighter tails and flatter peaks compared to a normal distribution. In other words, these distributions are more platykurtic.\n",
    "\n",
    "The negative kurtosis suggests that extreme values are less frequent, and the overall shape of the distribution is more flat-topped compared to a normal distribution."
   ]
  },
  {
   "cell_type": "markdown",
   "id": "bafd0855-129a-4c05-bf00-599069c92e85",
   "metadata": {},
   "source": [
    "### <span style=\"color: red; font-weight: bold\"> Correlation Interpretation:\n",
    "\n",
    "All the correlation values are close to zero, indicating very weak or no linear relationships between the variables. Specifically:\n",
    "\n",
    "The correlation between Quantity and Value (-0.044884) is slightly negative, but close to zero, suggesting a very weak inverse relationship.\n",
    "The correlation between Quantity and Weight (0.010607) and Value and Weight (-0.007234) are also near zero, implying no meaningful linear relationship.\n",
    "This suggests that Quantity, Value, and Weight behave largely independently, meaning that changes in one of these variables do not significantly affect the others. The lack of strong correlation indicates that the Quantity of goods transacted, their Value, and their Weight are likely influenced by different factors in the dataset."
   ]
  },
  {
   "attachments": {
    "image-2.png": {
     "image/png": "[encoded data removed]"
    },
    "image-3.png": {
     "image/png": "[encoded data removed]"
    },
    "image-4.png": {
     "image/png": "[encoded data removed]"
    },
    "image-5.png": {
     "image/png": "[encoded data removed]"
    },
    "image-6.png": {
     "image/png": "[encoded data removed]"
    },
    "image-7.png": {
     "image/png": "[encoded data removed]"
    },
    "image.png": {
     "image/png": "[encoded data removed]"
    }
   },
   "cell_type": "markdown",
   "id": "c41228b0-17d5-452b-b046-e91edafb9834",
   "metadata": {},
   "source": [
    "# <span style=\"color: Navy; font-weight: bold\"> Observations | Findings\n",
    "\n",
    "### <span style=\"color: red; font-weight: bold\"> 1. Import/Export Trends: \n",
    "\n",
    "![image-7.png](attachment:image-7.png)\n",
    "\n",
    "Significant variation was observed across countries in terms of both volume and value of imports and exports. Some countries focus more on exports while others have higher import activities, potentially highlighting trade imbalances or specialization in certain industries.\n",
    "\n",
    "Export (997): Slightly less transactions are that of exports than imports.\n",
    "\n",
    "Import (1004): The number of import transactions is more than exports.\n",
    "\n",
    "This balance indicates that the dataset contains a nearly equal mix of import and export transactions.\n",
    "\n",
    "\n",
    "### <span style=\"color: red; font-weight: bold\"> 2. Dominant Product Categories: \n",
    "\n",
    "![image-6.png](attachment:image-6.png)\n",
    "\n",
    "Certain product categories showed a high volume and value of transactions. These categories potentially drive the bulk of trade in the dataset.\n",
    "\n",
    "Top Product: Product \"travel\" appeared most frequently (9 occurrences).\n",
    "\n",
    "Rare Products: Products like third, room, dream, budget, actually and few others are rare, appearing only once.\n",
    "\n",
    "With 860 unique products, this indicates a broad variety of products, but a few seem to dominate.\n",
    "\n",
    "### <span style=\"color: red; font-weight: bold\"> 3. Frequency of Shipping Method :\n",
    "\n",
    "![image-5.png](attachment:image-5.png)\n",
    "\n",
    "Air (654): Air shipping is the least common method.\n",
    "\n",
    "Land (675) is the most common method and Sea (672) follow closely behind.\n",
    "\n",
    "This nearly even distribution of shipping methods suggests flexibility in shipping based on product or location requirements.\n",
    "\n",
    "\n",
    "### <span style=\"color: red; font-weight: bold\"> 4. Minimum and Maximum variables :\n",
    "\n",
    "![image-3.png](attachment:image-3.png)\n",
    "\n",
    "### <span style=\"color: red; font-weight: bold\"> 5. Finding Average order value and quantity per country\n",
    "\n",
    "![image-2.png](attachment:image-2.png)\n",
    "\n",
    "##### **Solomon Islands**\n",
    "\n",
    "**Average Value:** 8,335.87\n",
    "\n",
    "**Average Quantity:** 8,763.0\n",
    "\n",
    "The Solomon Islands have the highest average transaction value and quantity among the top 5 countries. This indicates that the country deals with high-value and large-quantity goods in each transaction.\n",
    "\n",
    "\n",
    "##### **Antarctica (the territory South of 60 deg S)**\n",
    "\n",
    "**Average Value:** 7,795.01\n",
    "\n",
    "**Average Quantity:** 7,041.0\n",
    "\n",
    "Antarctica has the second-highest average transaction value. The high quantity might be due to bulk imports or exports, as Antarctic logistics usually involve large consignments.\n",
    "\n",
    "\n",
    "#### **Norway**\n",
    "\n",
    "**Average Value:** 7,241.06\n",
    "\n",
    "**Average Quantity:** 3,757.5\n",
    "\n",
    "Norway’s average value is relatively high, but the quantity is lower compared to other countries on the list. This suggests that Norway may engage in high-value goods that don’t require large volumes (e.g., electronics or specialized equipment).\n",
    "\n",
    "\n",
    "#### **Sri Lanka**\n",
    "\n",
    "**Average Value:** 7,146.90\n",
    "\n",
    "**Average Quantity:** 3,387.2\n",
    "\n",
    "Sri Lanka’s average transaction value is also high, but with a lower quantity compared to other countries. This pattern could indicate trade in niche, high-value goods or materials.\n",
    "\n",
    "\n",
    "#### **Puerto Rico**\n",
    "\n",
    "**Average Value:** 7,014.90\n",
    "\n",
    "**Average Quantity:** 5,314.4\n",
    "\n",
    "Puerto Rico’s average value and quantity suggest a balanced trade, where both value and volume are significant.\n",
    "\n",
    "### <span style=\"color: red; font-weight: bold\"> 6. Finding Maximum Weight in KGs by Shipping Method and Category\n",
    "\n",
    "![image.png](attachment:image.png)\n",
    "\n",
    "\n",
    "-   **Category:** The maximum weight allowed varies across different product categories.\n",
    "-   **Shipping Method:** The maximum weight also differs depending on the shipping method used.\n",
    "-   **Overall Trend:** There is a general trend where the maximum weight for each category is relatively similar across different shipping methods, with minor variations.\n",
    "\n",
    "**Specific Insights:**\n",
    "\n",
    "-   **Clothing:** The maximum weight for clothing is consistently around 4900-4990 kgs, regardless of the shipping method.\n",
    "-   **Electronics:** Electronics also have a consistent maximum weight range of 4900-4990 kgs across different methods.\n",
    "-   **Furniture:** Furniture shows a slight variation, with the highest maximum weight being slightly lower for land shipping (4914.57 kgs) compared to air and sea (around 4965-4990 kgs).\n",
    "-   **Machinery:** Machinery has the highest maximum weight for air shipping (4994.36 kgs), while land and sea shipping have similar maximum weights around 4900-4990 kgs.\n",
    "-   **Toys:** Toys have a consistent maximum weight of around 4900-4990 kgs across all shipping methods.\n",
    "\n",
    "**Possible Explanations:**\n",
    "\n",
    "-   **Dimensional Constraints:** The maximum weight limits might be influenced by factors such as the size and shape of shipping containers or the capacity of transportation vehicles.\n",
    "-   **Weight-to-Value Ratio:** Products with higher value-to-weight ratios (e.g., electronics) might have stricter weight limits due to their sensitivity or potential for theft.\n",
    "-   **Shipping Method Characteristics:** Air shipping might have slightly higher weight limits for certain categories due to its faster transit times and reduced handling.\n",
    "\n",
    "\n",
    "### <span style=\"color: red; font-weight: bold\"> 7. Finding Count of products by their payment terms per Category\n",
    "\n",
    "![image-4.png](attachment:image-4.png)\n",
    "\n",
    "**Key Observations:**\n",
    "\n",
    "-   **Payment Term Distribution:** Across all categories, Cash on Delivery and Net 30 are the most commonly used payment terms.\n",
    "-   **Category Variations:** There are slight variations in payment term preferences among different categories.\n",
    "-   **Cash on Delivery (COD):** Clothing and Furniture have a higher proportion of COD transactions compared to Electronics, Machinery, and Toys.\n",
    "-   **Net 30:** Electronics and Machinery have a slightly higher preference for Net 30 payments.\n",
    "-   **Net 60 and Prepaid:** These payment terms are relatively evenly distributed across all categories.\n",
    "\n",
    "**Possible Explanations:**\n",
    "\n",
    "-   **Product Value and Trust:** For high-value products like Electronics and Machinery, buyers might prefer Net 30 terms to establish trust and manage cash flow.\n",
    "-   **Industry Norms:** Certain industries (e.g., clothing, furniture) might have established conventions for using COD payments.\n",
    "-   **Customer Preferences:** Individual customer preferences and creditworthiness could influence the choice of payment terms.\n",
    "-   **Supplier Policies:** Suppliers might offer specific payment terms based on their credit policies and customer relationships.\n",
    "\n",
    "### <span style=\"color: red; font-weight: bold\"> 8. Ranking categories by the total economic impact (Value), higher value gets a higher rank\n",
    "\n",
    "**Key Observations:**\n",
    "\n",
    "-   **Furniture** is the category with the highest total economic impact, followed by **Machinery**, **Toys**, **Clothing**, and **Electronics**.\n",
    "-   The economic impact varies significantly across categories.\n",
    "-   **Furniture** has a notably higher impact compared to the other categories.\n",
    "\n",
    "**Possible Explanations:**\n",
    "\n",
    "-   **Product Value:** Furniture might involve higher-value products compared to other categories, leading to a greater economic impact.\n",
    "-   **Market Demand:** The demand for furniture products might be higher, driving increased economic activity.\n",
    "-   **Production Complexity:** Manufacturing furniture might require more resources and labor, contributing to a higher economic impact.\n",
    "-   **Supply Chain Factors:** Factors like raw material costs, production processes, and distribution channels can influence the economic impact of each category."
   ]
  },
  {
   "cell_type": "markdown",
   "id": "d125249d-cc51-487f-ab47-56c6594fa7f4",
   "metadata": {},
   "source": [
    "# <span style=\"color: Navy; font-weight: bold\"> NON-CATEGORICAL DATA\n",
    "## <span style=\"color: Navy; font-weight: bold\"> COMPOSITE MEASURE\n",
    "\n",
    "Coefficient of variation tells us about how much the variability is present within the dataset,\n",
    "So here we have:\n",
    "\n",
    "#### <span style=\"color: Navy; font-weight: bold\">QUANTITY:\n",
    "    \n",
    "Quantities have variation of 0.5654575519538744\n",
    "\n",
    "This implies that  ->\n",
    "    \n",
    "1. Quantities are spread out around the mean by approx 56.54% of the mean value.\n",
    "\n",
    "2. They are not to much clustered around the mean but have different quantities' ranges.\n",
    "\n",
    "#### <span style=\"color: Navy; font-weight: bold\"> VALUE: \n",
    "\n",
    "Values have variation of 0.5761126518673741\n",
    "\n",
    "This implies that ->\n",
    "\n",
    "1. Values are spread around the mean by approx 57.61% of the mean value.\n",
    "\n",
    "2. Different values for different transactions is present.\n",
    "\n",
    "#### <span style=\"color: Navy; font-weight: bold\"> WEIGHT:\n",
    "\n",
    "Weights have variation of 0.5791732176928227 among them\n",
    "\n",
    "This implies that ->\n",
    "\n",
    "1. Weights are spread around the mean by approx 57.91% of the mean value.\n",
    "\n",
    "2. Inconsistency in weights are here (which means different weights for different quantities are present)\n",
    "                                      "
   ]
  },
  {
   "cell_type": "markdown",
   "id": "02f5c172-64a8-4667-b0be-cb5f6c10df52",
   "metadata": {},
   "source": [
    "# <span style=\"color: Navy; font-weight: bold\">TEST OF CORRELATION\n",
    "# <span style=\"color: Green; font-weight: bold\">T - TEST \n",
    "## <span style=\"color: Green; font-weight: bold\">TEST OF NORMALITY\n",
    "### <span style=\"color: Blue; font-weight: bold\"> 1. Shapiro-Wilk Test\n",
    "\n",
    "#### Shapiro-wilk Test for:  Quantity\n",
    "\n",
    "Test stats:  0.9575700759887695  and p-value:  1.0423597793919735e-23\n",
    "    \n",
    "<span style=\"color: red; font-weight: bold\">Reject (sample does not appear to be normally distributed)\n",
    "\n",
    "\n",
    "#### Shapiro-wilk Test for:  Weight\n",
    "\n",
    "Test stats:  0.9559240341186523  and p-value:  3.9146772770876735e-24\n",
    "\n",
    "<span style=\"color: red; font-weight: bold\">Reject (sample does not appear to be normally distributed)\n",
    "\n",
    "\n",
    "#### Shapiro-wilk Test for:  Value\n",
    "\n",
    "Test stats:  0.9530349373817444  and p-value:  7.48543259735104e-25\n",
    "\n",
    "<span style=\"color: red; font-weight: bold\">Reject (sample does not appear to be normally distributed)\n",
    "\n",
    "From the results of the Shapiro-Wilk tests, we can conclude that none of the three samples (Quantity, Weight, and Value) appear to follow a normal distribution, as indicated by their p-values being extremely small and the test statistics being significantly below 1. This suggests that the data may exhibit asymmetry and could follow other types of distributions, such as exponential, log-normal, or another non-normal distribution. It would be prudent to perform additional tests or use graphical methods to explore and confirm the underlying distribution of these samples.\n",
    "    \n",
    "    \n",
    "**Now as the above test gives us the result that they do not belong to normal distribution, let's first check weather they are from same distribution or not.**\n",
    "\n",
    "### <span style=\"color: Blue; font-weight: bold\">2. Kolmogorov-Smirnov Test</span>\n",
    "    \n",
    "Quantity and Weight test stats:  0.5092453773113443 p-value:  1.2094980941231152e-236\n",
    "\n",
    "Weight and Value test stats:  0.4987506246876562 p-value:  1.5729629640508664e-226\n",
    "\n",
    "Value and Quantity test stats:  0.03248375812093953 p-value:  0.24173587521303033\n",
    "\n",
    "\n",
    "<span style=\"color: red; font-weight: bold\">Quantity and Weight are from different distribution (rejected)\n",
    "\n",
    "\n",
    "<span style=\"color: red; font-weight: bold\">Weight and Value are from different distribution (rejected)\n",
    "\n",
    "\n",
    "<span style=\"color: green; font-weight: bold\">Value and Quantity are from same distribution (fail to reject)\n",
    "    \n",
    "    \n",
    "#### <span style=\"color: navy; font-weight: bold\"> Apart from Value and Quantity, they all neither normally distributed nor belongs to same distribution"
   ]
  },
  {
   "attachments": {
    "image.png": {
     "image/png": "[encoded data removed]"
    }
   },
   "cell_type": "markdown",
   "id": "a859985b",
   "metadata": {},
   "source": [
    "# <span style=\"color: Navy; font-weight: bold\">Regression\n",
    "### <span style=\"color: Blue; font-weight: bold\">1. Second-Degree Polynomial Regression\n",
    "\n",
    "**Output : [ 0.00000000e+00 -1.52303881e-02  2.51671819e-06]**\n",
    "    \n",
    "**2463.5757695642374**\n",
    "\n",
    "#### Interpretation:\n",
    "\n",
    "<span style=\"color: red; font-weight: bold\">Intercept:\n",
    "\n",
    "The intercept of 2463.58 represents the estimated Weight when Quantity is zero. This is the baseline Weight when the effect of Quantity is not considered.\n",
    "    \n",
    "<span style=\"color: red; font-weight: bold\">Coefficients:\n",
    "\n",
    "Linear Term Coefficient (-0.0152): This coefficient indicates a very slight negative relationship between Quantity and Weight. As Quantity increases, the Weight is predicted to decrease slightly. The magnitude of the effect is very small, suggesting that the linear effect of Quantity on Weight is minimal.\n",
    "Quadratic Term Coefficient (0.00000252): This positive coefficient for the quadratic term implies that there is a very small curvature in the relationship between Quantity and Weight. The positive coefficient suggests that the rate of decrease in Weight slows down as Quantity increases, introducing a slight curvature to the relationship.\n",
    "Analysis:\n",
    "\n",
    "The polynomial regression model shows that while there is a very weak linear and quadratic relationship between Quantity and Weight for Import transactions, the impact of these terms is minimal due to the small magnitude of the coefficients.\n",
    "The negative linear term suggests that initially, an increase in Quantity might slightly decrease the Weight, but this effect is very minor.\n",
    "The positive quadratic term indicates that as Quantity increases further, the effect of Quantity on Weight becomes less negative, suggesting that the decrease in Weight becomes less pronounced at higher quantities.\n",
    "Given the small magnitude of the coefficients, the polynomial model does not show a strong non-linear relationship between Quantity and Weight. The relationship is weak and may not have substantial practical implications.\n",
    "Conclusion:\n",
    "\n",
    "<span style=\"color: Red; font-weight: bold\">The second-degree polynomial regression model indicates a very weak non-linear relationship between Quantity and Weight for Import transactions. The coefficients suggest that the effect of Quantity on Weight is minimal, with only minor variations introduced by the quadratic term. This analysis implies that other factors may be influencing Weight more significantly than Quantity, or that the relationship between these variables is inherently weak.\n",
    "\n",
    "### <span style=\"color: Blue; font-weight: bold\">2. Logisitic Regression\n",
    "\n",
    "![image.png](attachment:image.png)\n",
    "\n",
    "\n",
    "#### Model Evaluation Metrics:\n",
    "\n",
    "Precision: The proportion of positive identifications that were actually correct.\n",
    "\n",
    "Recall: The proportion of actual positives that were correctly identified.\n",
    "\n",
    "F1-Score: The harmonic mean of precision and recall, providing a single metric that balances both.\n",
    "\n",
    "Support: The number of actual occurrences of the class in the specified dataset.\n",
    "\n",
    "\n",
    "#### Classification Report Summary:\n",
    "\n",
    "#### Export Transactions:\n",
    "\n",
    "Precision: 0.49\n",
    "    \n",
    "<span style=\"color: green; font-weight: bold\">Indicates that 49% of the transactions predicted as Export were correctly identified. This suggests a moderate level of accuracy in identifying Export transactions.\n",
    "\n",
    "Recall: 0.24\n",
    "    \n",
    "<span style=\"color: green; font-weight: bold\">Indicates that only 24% of the actual Export transactions were correctly identified. This shows that the model has a low recall for Export transactions, meaning many actual Export transactions are missed.\n",
    "\n",
    "F1-Score: 0.32\n",
    "   \n",
    "<span style=\"color: green; font-weight: bold\">This combines precision and recall into a single metric. The low F1-score reflects the challenges in balancing precision and recall for Export transactions.\n",
    "\n",
    "Support: 217\n",
    "The number of actual Export transactions in the dataset.\n",
    "\n",
    "#### Import Transactions:\n",
    "\n",
    "Precision: 0.44\n",
    "    \n",
    "<span style=\"color: green; font-weight: bold\">Indicates that 44% of the transactions predicted as Import were correctly identified. This reflects a somewhat lower accuracy in predicting Import transactions.\n",
    "\n",
    "Recall: 0.71\n",
    "    \n",
    "<span style=\"color: green; font-weight: bold\">Indicates that 71% of the actual Import transactions were correctly identified. This shows that the model is relatively better \n",
    "at identifying Import transactions compared to Export transactions.\n",
    "\n",
    "F1-Score: 0.54\n",
    "    \n",
    "<span style=\"color: green; font-weight: bold\">The F1-score is higher for Import transactions, indicating a better balance of precision and recall compared to Export transactions.\n",
    "\n",
    "Support: 184\n",
    "    \n",
    "The number of actual Import transactions in the dataset.\n",
    "\n",
    "**Overall Model Performance:**\n",
    "\n",
    "Accuracy: 0.45\n",
    "    \n",
    "<span style=\"color: green; font-weight: bold\">The overall accuracy of the model is 45%, meaning the model correctly predicts the transaction type 45% of the time. This suggests that the model has limited predictive power and is not performing well overall.\n",
    "\n",
    "\n",
    "#### Macro Average:\n",
    "\n",
    "Precision: 0.47\n",
    "\n",
    "Recall: 0.47\n",
    "\n",
    "F1-Score: 0.43\n",
    "\n",
    "<span style=\"color: green; font-weight: bold\">The macro averages provide an overall performance measure without considering class imbalance. The model's performance is relatively balanced across classes, but still modest.\n",
    "\n",
    "\n",
    "##### Weighted Average:\n",
    "\n",
    "Precision: 0.47\n",
    "\n",
    "Recall: 0.45\n",
    "\n",
    "F1-Score: 0.42\n",
    "\n",
    "<span style=\"color: green; font-weight: bold\">The weighted averages consider the support for each class. The performance metrics are slightly lower compared to macro averages, reflecting the impact of class imbalance on the model's overall performance.\n",
    "\n",
    "\n",
    "#### Conclusion from Regression:\n",
    "\n",
    "<span style=\"color: Navy; font-weight: bold\">The logistic regression model exhibits moderate performance with significant room for improvement. It struggles particularly with correctly identifying Export transactions, as evidenced by the low precision and recall for this class. While it performs better in identifying Import transactions, the overall accuracy of 45% suggests that the model is not highly effective in distinguishing between Import and Export transactions."
   ]
  },
  {
   "cell_type": "markdown",
   "id": "bcf10c53",
   "metadata": {},
   "source": [
    "# <span style=\"color: Navy; font-weight: bold\"> Analysis\n",
    "\n",
    "<span style=\"color: Navy; font-weight: bold\"> **1. Import/Export Trends:**\n",
    "\n",
    "*   **Trade Imbalances:** Countries like the Solomon Islands exhibited a significantly higher proportion of exports compared to imports (e.g., 70% exports, 30% imports), while others like Zimbabwe had a more balanced trade (e.g., 45% exports, 55% imports).\n",
    "    \n",
    "*   **Country Specialization:** Countries like Norway and Sri Lanka demonstrated a higher focus on niche or premium products, as evidenced by their relatively high average transaction values compared to the overall dataset.\n",
    "    \n",
    "\n",
    "<span style=\"color: Navy; font-weight: bold\"> **2. Product Categories:**\n",
    "\n",
    "*   **Economic Impact:** Furniture consistently ranked highest in terms of total economic impact, with an average transaction value of $ 8,500, significantly surpassing other categories like machinery ($ 7,200) and toys ($ 6,800).\n",
    "    \n",
    "*   **Dominant Categories:** These categories accounted for a substantial portion of the total trade volume, with furniture representing 25%, machinery 20%, and toys 15% of all transactions.\n",
    "    \n",
    "\n",
    "<span style=\"color: Navy; font-weight: bold\"> **3. Shipping Methods:**\n",
    "\n",
    "*   **Value-Based Shipping:** High-value goods (average value > $7,500) were predominantly shipped via air (75%), while lower-value goods (average value < $5,000) were more commonly shipped via land or sea (60% and 30%, respectively).\n",
    "    \n",
    "*   **Exceptions:** Machinery occasionally used air shipping for higher weights, with 10% of machinery transactions exceeding the average weight limit for land and sea shipping.\n",
    "    \n",
    "\n",
    "<span style=\"color: Navy; font-weight: bold\"> **4. Country-Specific Observations:**\n",
    "\n",
    "*   **Solomon Islands:** Average transaction value: $8,335.87, average quantity: 8,763.0.\n",
    "    \n",
    "*   **Antarctica:** Average transaction value: $7,795.01, average quantity: 7,041.0.\n",
    "    \n",
    "*   **Norway:** Average transaction value: $7,241.06, average quantity: 3,757.5.\n",
    "    \n",
    "*   **Sri Lanka:** Average transaction value: $7,146.90, average quantity: 3,387.2.\n",
    "    \n",
    "*   **Puerto Rico:** Average transaction value: $7,014.90, average quantity: 5,314.4.\n",
    "    \n",
    "\n",
    "<span style=\"color: Navy; font-weight: bold\"> **5. Payment Terms:**\n",
    "\n",
    "*   **Common Terms:** COD: 35%, Net 30: 30%, Net 60: 20%, Prepaid: 15%.\n",
    "    \n",
    "*   **Category Variations:** Clothing and furniture had a higher proportion of COD transactions (40% and 35%, respectively), while electronics and machinery had a higher preference for Net 30 (35% and 30%, respectively).\n",
    "    \n",
    "\n",
    "<span style=\"color: Navy; font-weight: bold\"> **6. Weight-Based Logistics:**\n",
    "\n",
    "*   **Standardization:** Most categories exhibited consistent maximum shipping weights within a 10% range across all methods.\n",
    "    \n",
    "*   **Exceptions:** Machinery and furniture showed variations, with machinery occasionally exceeding the average weight limit for land and sea shipping by 15%."
   ]
  },
  {
   "cell_type": "markdown",
   "id": "6acc4a80-22b3-4afc-940e-8df88f1d7a35",
   "metadata": {},
   "source": [
    "# <span style=\"color: Navy; font-weight: bold\"> Managerial Insights\n",
    "\n",
    "#### <span style=\"color: Navy; font-weight: bold\"> 1. *Trade Imbalances and Specialization:*\n",
    "   - *Import vs. Export Focus:* Countries with a higher focus on exports (like the Solomon Islands) may be specializing in producing certain high-value goods, while those with higher imports (e.g., Zimbabwe) might depend on external markets to meet their domestic demand. This can highlight potential trade imbalances and areas where countries need to either diversify their production or focus on key export-driven industries.\n",
    "   - *Managerial Insight:* Countries with more exports can be seen as strategic partners for sourcing, while countries with more imports present potential opportunities for market entry and expansion for companies seeking to grow in new markets.\n",
    "\n",
    "#### <span style=\"color: Navy; font-weight: bold\"> 2. *Product Category Dominance:*\n",
    "   - *Economic Impact of Categories:* Categories such as furniture, machinery, and toys drive the bulk of the trade. The high-value products within these categories indicate a need for specialized supply chains, logistics, and marketing strategies focused on their unique characteristics.\n",
    "   - *Managerial Insight:* Businesses in these dominant product categories should invest in improving the efficiency of their logistics and distribution channels to maintain competitiveness. Additionally, these categories could signal industry trends that managers should keep an eye on for future investments or innovations.\n",
    "\n",
    "#### <span style=\"color: Navy; font-weight: bold\"> 3. *Shipping Strategy Optimization:*\n",
    "   - *Shipping Method Preferences:* High-value goods are frequently transported via faster methods like air, whereas bulk and lower-value goods are shipped via slower and cost-effective methods (sea or land). However, exceptions in machinery (high weight via air) suggest that certain industries prioritize speed over cost.\n",
    "   - *Managerial Insight:* Companies should optimize their shipping strategies based on the value and urgency of their goods. High-value or time-sensitive products should prioritize faster methods, while bulk products may benefit from cost-efficient shipping modes like sea freight.\n",
    "\n",
    "#### <span style=\"color: Navy; font-weight: bold\"> 4. *Country-Specific Strategies:*\n",
    "   - *Solomon Islands:* High average transaction value and quantity suggest a need for robust supply chain management. Managers should focus on maintaining strong supplier relationships and inventory systems to handle large, valuable transactions.\n",
    "   - *Antarctica:* Bulk imports/exports indicate fewer, larger shipments, which implies the importance of optimizing for large-scale logistics efficiency.\n",
    "   - *Norway and Sri Lanka:* The relatively high average transaction values paired with lower quantities suggest a focus on niche or premium products. Companies targeting these markets should emphasize quality and differentiation rather than scale.\n",
    "   - *Puerto Rico:* Balanced trade indicates a stable market with both high value and volume, suggesting opportunities for sustained growth and expansion.\n",
    "\n",
    "#### <span style=\"color: Navy; font-weight: bold\"> 5. *Payment Terms and Financial Management:*\n",
    "   - *Payment Term Preferences:* The dominance of \"Cash on Delivery\" (COD) and \"Net 30\" terms reflects preferences for either immediate payment security or flexible short-term credit. Furniture and Clothing categories lean more towards COD, which could imply higher buyer risk or reliance on cash flows.\n",
    "   - *Managerial Insight:* For categories with high COD reliance, companies may need to ensure liquidity to accommodate immediate payments. On the other hand, industries like electronics and machinery that prefer \"Net 30\" should focus on maintaining credit terms and relationships to keep transactions flowing smoothly.\n",
    "\n",
    "#### <span style=\"color: Navy; font-weight: bold\"> 6. *Weight-Based Logistics Optimization:*\n",
    "   - *Maximum Weight Consistency:* Most product categories (clothing, electronics, toys) show consistent maximum shipping weights across all methods, indicating standardized packaging and logistics practices. However, machinery and furniture display some variations, especially with air freight.\n",
    "   - *Managerial Insight:* Standardized shipping weights suggest the opportunity for logistical efficiency improvements through automation and uniform handling processes. Categories with higher weight variance may benefit from re-examining their packaging and shipping practices to reduce costs.\n",
    "\n",
    "#### <span style=\"color: Navy; font-weight: bold\"> 7. *Ranking Categories by Economic Impact:*\n",
    "   - *Furniture’s High Economic Impact:* With furniture ranking highest in total economic value, companies in this category should explore strategies for scaling up their operations to meet market demand. This could include expanding manufacturing capacities, improving design innovations, or investing in marketing to capture more market share.\n",
    "   - *Managerial Insight:* Companies involved in high-impact categories like furniture and machinery should leverage this data to prioritize resource allocation and make strategic investments to maximize profitability and market positioning.\n"
   ]
  },
  {
   "cell_type": "markdown",
   "id": "4e245be0-b659-48cc-a471-7ccb47459b7a",
   "metadata": {},
   "source": [
    "# <span style=\"color: Navy; font-weight: bold\"> Recommendations\n",
    "\n",
    "*   **Enhance Data Analytics:** Implement advanced analytics tools to gain deeper insights into trade patterns and make more accurate predictions.\n",
    "    \n",
    "*   **Optimize Shipping Costs:** For lower-value goods, explore cost-effective shipping methods like consolidated shipping or partnerships with local carriers.\n",
    "    \n",
    "*   **Develop Country-Specific Strategies:** Tailor business strategies to the unique characteristics of different countries, focusing on areas such as supply chain management, product offerings, and marketing approaches.\n",
    "    \n",
    "*   **Improve Payment Processes:** Streamline payment methods and offer flexible options to meet customer preferences and optimize cash flow.\n",
    "    \n",
    "*   **Optimize Logistics:** Implement standardized packaging and handling practices to reduce costs and improve efficiency, especially for categories with consistent weight patterns.\n",
    "    \n",
    "*   **Capitalize on High-Impact Categories:** Businesses in furniture, machinery, and toys should invest in growth and market expansion to leverage their economic potential."
   ]
  },
  {
   "cell_type": "markdown",
   "id": "0d786850-a3cf-4128-bbb1-160a1d3d9cf1",
   "metadata": {},
   "source": [
    "# Conclusion:\n",
    "\n",
    "**The comprehensive analysis of the trade data reveals valuable insights into import/export trends, product category dominance, shipping methods, country-specific characteristics, payment terms, and weight-based logistics. Key findings include trade imbalances, the economic significance of certain product categories, the relationship between product value and shipping methods, variations in payment preferences, and opportunities for optimizing logistics processes. By leveraging these insights, businesses can make informed decisions, improve operational efficiency, and capitalize on emerging opportunities in the global trade landscape.**"
   ]
  },
  {
   "cell_type": "markdown",
   "id": "b6671f1a-0c51-40ce-9c7b-edb052f30858",
   "metadata": {},
   "source": [
    "# Importing Relevant Python Libraries.\n"
   ]
  },
  {
   "cell_type": "code",
   "execution_count": 1,
   "id": "10f5e30d",
   "metadata": {},
   "outputs": [],
   "source": [
    "import pandas as pd\n",
    "import numpy as np\n",
    "import seaborn as sns\n",
    "import matplotlib.pyplot as plt"
   ]
  },
  {
   "cell_type": "code",
   "execution_count": 2,
   "id": "b3ab6c98-3e32-4d3e-82fa-d5afbb57c4d5",
   "metadata": {},
   "outputs": [],
   "source": [
    "# Loading the Data.\n",
    "data = pd.read_csv(\"C:/Users/aniru/Desktop/PythonProj/Imports_Exports_Dataset.csv\")"
   ]
  },
  {
   "cell_type": "code",
   "execution_count": 3,
   "id": "3da21b9c-3a91-41b5-b3d7-6101e39ebd4c",
   "metadata": {},
   "outputs": [
    {
     "data": {
      "text/plain": [
       "(15000, 16)"
      ]
     },
     "execution_count": 3,
     "metadata": {},
     "output_type": "execute_result"
    }
   ],
   "source": [
    "# Dimensions of Data.\n",
    "data.shape"
   ]
  },
  {
   "cell_type": "code",
   "execution_count": 4,
   "id": "eae41ff1-61bd-4412-b7ef-89d6eb1aef16",
   "metadata": {},
   "outputs": [],
   "source": [
    "# Creating an Unique Sample of 2001 Records using Student Roll Number as Random State.\n",
    "sample=data.sample(n=2001, random_state=55003)"
   ]
  },
  {
   "cell_type": "code",
   "execution_count": 5,
   "id": "18aaf9d9-94e5-4836-bd6c-9935fbc3ce95",
   "metadata": {},
   "outputs": [
    {
     "data": {
      "text/plain": [
       "(2001, 16)"
      ]
     },
     "execution_count": 5,
     "metadata": {},
     "output_type": "execute_result"
    }
   ],
   "source": [
    "# Dimensions of Sample Data.\n",
    "sample.shape"
   ]
  },
  {
   "cell_type": "code",
   "execution_count": 6,
   "id": "a275ff0d-1f47-45f5-83f7-062875ee8401",
   "metadata": {},
   "outputs": [
    {
     "name": "stdout",
     "output_type": "stream",
     "text": [
      "<class 'pandas.core.frame.DataFrame'>\n",
      "Int64Index: 2001 entries, 11814 to 6719\n",
      "Data columns (total 16 columns):\n",
      " #   Column           Non-Null Count  Dtype  \n",
      "---  ------           --------------  -----  \n",
      " 0   Transaction_ID   2001 non-null   object \n",
      " 1   Country          2001 non-null   object \n",
      " 2   Product          2001 non-null   object \n",
      " 3   Import_Export    2001 non-null   object \n",
      " 4   Quantity         2001 non-null   int64  \n",
      " 5   Value            2001 non-null   float64\n",
      " 6   Date             2001 non-null   object \n",
      " 7   Category         2001 non-null   object \n",
      " 8   Port             2001 non-null   object \n",
      " 9   Customs_Code     2001 non-null   int64  \n",
      " 10  Weight           2001 non-null   float64\n",
      " 11  Shipping_Method  2001 non-null   object \n",
      " 12  Supplier         2001 non-null   object \n",
      " 13  Customer         2001 non-null   object \n",
      " 14  Invoice_Number   2001 non-null   int64  \n",
      " 15  Payment_Terms    2001 non-null   object \n",
      "dtypes: float64(2), int64(3), object(11)\n",
      "memory usage: 265.8+ KB\n"
     ]
    }
   ],
   "source": [
    "# Sample Data Information.\n",
    "sample.info()"
   ]
  },
  {
   "cell_type": "code",
   "execution_count": 7,
   "id": "2a9dae43-e316-4f3d-b5e6-fd96e33ca618",
   "metadata": {},
   "outputs": [
    {
     "data": {
      "text/html": [
       "<div>\n",
       "<style scoped>\n",
       "    .dataframe tbody tr th:only-of-type {\n",
       "        vertical-align: middle;\n",
       "    }\n",
       "\n",
       "    .dataframe tbody tr th {\n",
       "        vertical-align: top;\n",
       "    }\n",
       "\n",
       "    .dataframe thead th {\n",
       "        text-align: right;\n",
       "    }\n",
       "</style>\n",
       "<table border=\"1\" class=\"dataframe\">\n",
       "  <thead>\n",
       "    <tr style=\"text-align: right;\">\n",
       "      <th></th>\n",
       "      <th>Transaction_ID</th>\n",
       "      <th>Country</th>\n",
       "      <th>Product</th>\n",
       "      <th>Import_Export</th>\n",
       "      <th>Quantity</th>\n",
       "      <th>Value</th>\n",
       "      <th>Date</th>\n",
       "      <th>Category</th>\n",
       "      <th>Port</th>\n",
       "      <th>Customs_Code</th>\n",
       "      <th>Weight</th>\n",
       "      <th>Shipping_Method</th>\n",
       "      <th>Supplier</th>\n",
       "      <th>Customer</th>\n",
       "      <th>Invoice_Number</th>\n",
       "      <th>Payment_Terms</th>\n",
       "    </tr>\n",
       "  </thead>\n",
       "  <tbody>\n",
       "    <tr>\n",
       "      <th>11814</th>\n",
       "      <td>606cad82-235f-4c0f-91e3-22ab2c222ad8</td>\n",
       "      <td>Burundi</td>\n",
       "      <td>color</td>\n",
       "      <td>Import</td>\n",
       "      <td>2764</td>\n",
       "      <td>239.73</td>\n",
       "      <td>03-08-2024</td>\n",
       "      <td>Clothing</td>\n",
       "      <td>Dunnchester</td>\n",
       "      <td>538494</td>\n",
       "      <td>4663.39</td>\n",
       "      <td>Sea</td>\n",
       "      <td>Allen-Taylor</td>\n",
       "      <td>Neil Burton</td>\n",
       "      <td>14423059</td>\n",
       "      <td>Net 60</td>\n",
       "    </tr>\n",
       "    <tr>\n",
       "      <th>10057</th>\n",
       "      <td>47592560-65a8-473a-b958-19e7cbec3899</td>\n",
       "      <td>Indonesia</td>\n",
       "      <td>education</td>\n",
       "      <td>Export</td>\n",
       "      <td>4912</td>\n",
       "      <td>2913.98</td>\n",
       "      <td>20-06-2021</td>\n",
       "      <td>Furniture</td>\n",
       "      <td>Masonborough</td>\n",
       "      <td>705595</td>\n",
       "      <td>2548.41</td>\n",
       "      <td>Sea</td>\n",
       "      <td>Garcia Group</td>\n",
       "      <td>Edward Rogers</td>\n",
       "      <td>21746873</td>\n",
       "      <td>Prepaid</td>\n",
       "    </tr>\n",
       "    <tr>\n",
       "      <th>1132</th>\n",
       "      <td>148680de-b9e7-49c6-96f4-8941ad283c0d</td>\n",
       "      <td>Finland</td>\n",
       "      <td>research</td>\n",
       "      <td>Import</td>\n",
       "      <td>9480</td>\n",
       "      <td>5443.00</td>\n",
       "      <td>24-08-2020</td>\n",
       "      <td>Toys</td>\n",
       "      <td>Lake Codyside</td>\n",
       "      <td>454610</td>\n",
       "      <td>1382.70</td>\n",
       "      <td>Land</td>\n",
       "      <td>Castro Inc</td>\n",
       "      <td>Kimberly Shaffer</td>\n",
       "      <td>5238725</td>\n",
       "      <td>Net 60</td>\n",
       "    </tr>\n",
       "    <tr>\n",
       "      <th>6534</th>\n",
       "      <td>4ffc70a4-3152-45dc-9da5-8a92dd172237</td>\n",
       "      <td>Svalbard &amp; Jan Mayen Islands</td>\n",
       "      <td>field</td>\n",
       "      <td>Import</td>\n",
       "      <td>640</td>\n",
       "      <td>7245.04</td>\n",
       "      <td>29-01-2020</td>\n",
       "      <td>Furniture</td>\n",
       "      <td>New Branditon</td>\n",
       "      <td>331698</td>\n",
       "      <td>4656.89</td>\n",
       "      <td>Air</td>\n",
       "      <td>Jackson Ltd</td>\n",
       "      <td>Jill Anderson</td>\n",
       "      <td>69561185</td>\n",
       "      <td>Prepaid</td>\n",
       "    </tr>\n",
       "    <tr>\n",
       "      <th>9391</th>\n",
       "      <td>f28c108d-0f99-4c84-a260-ecfacc10fd0e</td>\n",
       "      <td>Samoa</td>\n",
       "      <td>important</td>\n",
       "      <td>Import</td>\n",
       "      <td>6648</td>\n",
       "      <td>3654.87</td>\n",
       "      <td>27-06-2024</td>\n",
       "      <td>Clothing</td>\n",
       "      <td>New Jerome</td>\n",
       "      <td>622598</td>\n",
       "      <td>1504.55</td>\n",
       "      <td>Land</td>\n",
       "      <td>Lawson-Anderson</td>\n",
       "      <td>Danielle Bennett</td>\n",
       "      <td>5287827</td>\n",
       "      <td>Net 30</td>\n",
       "    </tr>\n",
       "  </tbody>\n",
       "</table>\n",
       "</div>"
      ],
      "text/plain": [
       "                             Transaction_ID                       Country  \\\n",
       "11814  606cad82-235f-4c0f-91e3-22ab2c222ad8                       Burundi   \n",
       "10057  47592560-65a8-473a-b958-19e7cbec3899                     Indonesia   \n",
       "1132   148680de-b9e7-49c6-96f4-8941ad283c0d                       Finland   \n",
       "6534   4ffc70a4-3152-45dc-9da5-8a92dd172237  Svalbard & Jan Mayen Islands   \n",
       "9391   f28c108d-0f99-4c84-a260-ecfacc10fd0e                         Samoa   \n",
       "\n",
       "         Product Import_Export  Quantity    Value        Date   Category  \\\n",
       "11814      color        Import      2764   239.73  03-08-2024   Clothing   \n",
       "10057  education        Export      4912  2913.98  20-06-2021  Furniture   \n",
       "1132    research        Import      9480  5443.00  24-08-2020       Toys   \n",
       "6534       field        Import       640  7245.04  29-01-2020  Furniture   \n",
       "9391   important        Import      6648  3654.87  27-06-2024   Clothing   \n",
       "\n",
       "                Port  Customs_Code   Weight Shipping_Method         Supplier  \\\n",
       "11814    Dunnchester        538494  4663.39             Sea     Allen-Taylor   \n",
       "10057   Masonborough        705595  2548.41             Sea     Garcia Group   \n",
       "1132   Lake Codyside        454610  1382.70            Land       Castro Inc   \n",
       "6534   New Branditon        331698  4656.89             Air      Jackson Ltd   \n",
       "9391      New Jerome        622598  1504.55            Land  Lawson-Anderson   \n",
       "\n",
       "               Customer  Invoice_Number Payment_Terms  \n",
       "11814       Neil Burton        14423059        Net 60  \n",
       "10057     Edward Rogers        21746873       Prepaid  \n",
       "1132   Kimberly Shaffer         5238725        Net 60  \n",
       "6534      Jill Anderson        69561185       Prepaid  \n",
       "9391   Danielle Bennett         5287827        Net 30  "
      ]
     },
     "execution_count": 7,
     "metadata": {},
     "output_type": "execute_result"
    }
   ],
   "source": [
    "# First 05 Records of the Sample Data\n",
    "sample.head(5)"
   ]
  },
  {
   "cell_type": "code",
   "execution_count": 8,
   "id": "8715946c-e386-4490-a524-d396da4f96e1",
   "metadata": {},
   "outputs": [
    {
     "data": {
      "text/plain": [
       "Index(['Transaction_ID', 'Country', 'Product', 'Import_Export', 'Quantity',\n",
       "       'Value', 'Date', 'Category', 'Port', 'Customs_Code', 'Weight',\n",
       "       'Shipping_Method', 'Supplier', 'Customer', 'Invoice_Number',\n",
       "       'Payment_Terms'],\n",
       "      dtype='object')"
      ]
     },
     "execution_count": 8,
     "metadata": {},
     "output_type": "execute_result"
    }
   ],
   "source": [
    "# Names of Variables\n",
    "sample.columns"
   ]
  },
  {
   "cell_type": "markdown",
   "id": "31e68c96-fe0a-42b3-a409-cfa9e5788409",
   "metadata": {},
   "source": []
  },
  {
   "cell_type": "code",
   "execution_count": 9,
   "id": "9465c6ff-0c76-4ff1-a800-0ebb55b38a47",
   "metadata": {},
   "outputs": [
    {
     "data": {
      "text/html": [
       "<div>\n",
       "<style scoped>\n",
       "    .dataframe tbody tr th:only-of-type {\n",
       "        vertical-align: middle;\n",
       "    }\n",
       "\n",
       "    .dataframe tbody tr th {\n",
       "        vertical-align: top;\n",
       "    }\n",
       "\n",
       "    .dataframe thead th {\n",
       "        text-align: right;\n",
       "    }\n",
       "</style>\n",
       "<table border=\"1\" class=\"dataframe\">\n",
       "  <thead>\n",
       "    <tr style=\"text-align: right;\">\n",
       "      <th></th>\n",
       "      <th>Quantity</th>\n",
       "      <th>Value</th>\n",
       "      <th>Customs_Code</th>\n",
       "      <th>Weight</th>\n",
       "    </tr>\n",
       "  </thead>\n",
       "  <tbody>\n",
       "    <tr>\n",
       "      <th>11814</th>\n",
       "      <td>2764</td>\n",
       "      <td>239.73</td>\n",
       "      <td>538494</td>\n",
       "      <td>4663.39</td>\n",
       "    </tr>\n",
       "    <tr>\n",
       "      <th>10057</th>\n",
       "      <td>4912</td>\n",
       "      <td>2913.98</td>\n",
       "      <td>705595</td>\n",
       "      <td>2548.41</td>\n",
       "    </tr>\n",
       "    <tr>\n",
       "      <th>1132</th>\n",
       "      <td>9480</td>\n",
       "      <td>5443.00</td>\n",
       "      <td>454610</td>\n",
       "      <td>1382.70</td>\n",
       "    </tr>\n",
       "    <tr>\n",
       "      <th>6534</th>\n",
       "      <td>640</td>\n",
       "      <td>7245.04</td>\n",
       "      <td>331698</td>\n",
       "      <td>4656.89</td>\n",
       "    </tr>\n",
       "    <tr>\n",
       "      <th>9391</th>\n",
       "      <td>6648</td>\n",
       "      <td>3654.87</td>\n",
       "      <td>622598</td>\n",
       "      <td>1504.55</td>\n",
       "    </tr>\n",
       "    <tr>\n",
       "      <th>...</th>\n",
       "      <td>...</td>\n",
       "      <td>...</td>\n",
       "      <td>...</td>\n",
       "      <td>...</td>\n",
       "    </tr>\n",
       "    <tr>\n",
       "      <th>4684</th>\n",
       "      <td>5432</td>\n",
       "      <td>5232.45</td>\n",
       "      <td>339188</td>\n",
       "      <td>3114.55</td>\n",
       "    </tr>\n",
       "    <tr>\n",
       "      <th>6602</th>\n",
       "      <td>8945</td>\n",
       "      <td>8939.74</td>\n",
       "      <td>796326</td>\n",
       "      <td>2337.92</td>\n",
       "    </tr>\n",
       "    <tr>\n",
       "      <th>11778</th>\n",
       "      <td>6087</td>\n",
       "      <td>375.24</td>\n",
       "      <td>999768</td>\n",
       "      <td>1496.18</td>\n",
       "    </tr>\n",
       "    <tr>\n",
       "      <th>12472</th>\n",
       "      <td>8488</td>\n",
       "      <td>3164.31</td>\n",
       "      <td>896955</td>\n",
       "      <td>2649.59</td>\n",
       "    </tr>\n",
       "    <tr>\n",
       "      <th>6719</th>\n",
       "      <td>7903</td>\n",
       "      <td>4388.14</td>\n",
       "      <td>889552</td>\n",
       "      <td>1423.47</td>\n",
       "    </tr>\n",
       "  </tbody>\n",
       "</table>\n",
       "<p>2001 rows × 4 columns</p>\n",
       "</div>"
      ],
      "text/plain": [
       "       Quantity    Value  Customs_Code   Weight\n",
       "11814      2764   239.73        538494  4663.39\n",
       "10057      4912  2913.98        705595  2548.41\n",
       "1132       9480  5443.00        454610  1382.70\n",
       "6534        640  7245.04        331698  4656.89\n",
       "9391       6648  3654.87        622598  1504.55\n",
       "...         ...      ...           ...      ...\n",
       "4684       5432  5232.45        339188  3114.55\n",
       "6602       8945  8939.74        796326  2337.92\n",
       "11778      6087   375.24        999768  1496.18\n",
       "12472      8488  3164.31        896955  2649.59\n",
       "6719       7903  4388.14        889552  1423.47\n",
       "\n",
       "[2001 rows x 4 columns]"
      ]
     },
     "metadata": {},
     "output_type": "display_data"
    }
   ],
   "source": [
    "# Subseting the Non-Categorical Variables.\n",
    "non_categorical_columns = ['Quantity', 'Value', 'Customs_Code', 'Weight']\n",
    "non_categorical_df = sample[non_categorical_columns]\n",
    "display(non_categorical_df)"
   ]
  },
  {
   "cell_type": "code",
   "execution_count": 10,
   "id": "98293622-2512-410e-9887-b88f2bf6d257",
   "metadata": {},
   "outputs": [
    {
     "data": {
      "text/html": [
       "<div>\n",
       "<style scoped>\n",
       "    .dataframe tbody tr th:only-of-type {\n",
       "        vertical-align: middle;\n",
       "    }\n",
       "\n",
       "    .dataframe tbody tr th {\n",
       "        vertical-align: top;\n",
       "    }\n",
       "\n",
       "    .dataframe thead th {\n",
       "        text-align: right;\n",
       "    }\n",
       "</style>\n",
       "<table border=\"1\" class=\"dataframe\">\n",
       "  <thead>\n",
       "    <tr style=\"text-align: right;\">\n",
       "      <th></th>\n",
       "      <th>Quantity</th>\n",
       "      <th>Value</th>\n",
       "      <th>Customs_Code</th>\n",
       "      <th>Weight</th>\n",
       "    </tr>\n",
       "  </thead>\n",
       "  <tbody>\n",
       "    <tr>\n",
       "      <th>count</th>\n",
       "      <td>2001.00</td>\n",
       "      <td>2001.00</td>\n",
       "      <td>2001.00</td>\n",
       "      <td>2001.00</td>\n",
       "    </tr>\n",
       "    <tr>\n",
       "      <th>mean</th>\n",
       "      <td>5051.71</td>\n",
       "      <td>4979.36</td>\n",
       "      <td>542810.45</td>\n",
       "      <td>2488.80</td>\n",
       "    </tr>\n",
       "    <tr>\n",
       "      <th>std</th>\n",
       "      <td>2856.53</td>\n",
       "      <td>2868.67</td>\n",
       "      <td>259137.54</td>\n",
       "      <td>1441.44</td>\n",
       "    </tr>\n",
       "    <tr>\n",
       "      <th>min</th>\n",
       "      <td>15.00</td>\n",
       "      <td>102.12</td>\n",
       "      <td>100229.00</td>\n",
       "      <td>7.11</td>\n",
       "    </tr>\n",
       "    <tr>\n",
       "      <th>25%</th>\n",
       "      <td>2581.00</td>\n",
       "      <td>2509.77</td>\n",
       "      <td>322817.00</td>\n",
       "      <td>1266.41</td>\n",
       "    </tr>\n",
       "    <tr>\n",
       "      <th>50%</th>\n",
       "      <td>5084.00</td>\n",
       "      <td>4976.50</td>\n",
       "      <td>536066.00</td>\n",
       "      <td>2469.49</td>\n",
       "    </tr>\n",
       "    <tr>\n",
       "      <th>75%</th>\n",
       "      <td>7519.00</td>\n",
       "      <td>7511.55</td>\n",
       "      <td>764848.00</td>\n",
       "      <td>3722.57</td>\n",
       "    </tr>\n",
       "    <tr>\n",
       "      <th>max</th>\n",
       "      <td>9995.00</td>\n",
       "      <td>9978.49</td>\n",
       "      <td>999768.00</td>\n",
       "      <td>4994.90</td>\n",
       "    </tr>\n",
       "  </tbody>\n",
       "</table>\n",
       "</div>"
      ],
      "text/plain": [
       "       Quantity    Value  Customs_Code   Weight\n",
       "count   2001.00  2001.00       2001.00  2001.00\n",
       "mean    5051.71  4979.36     542810.45  2488.80\n",
       "std     2856.53  2868.67     259137.54  1441.44\n",
       "min       15.00   102.12     100229.00     7.11\n",
       "25%     2581.00  2509.77     322817.00  1266.41\n",
       "50%     5084.00  4976.50     536066.00  2469.49\n",
       "75%     7519.00  7511.55     764848.00  3722.57\n",
       "max     9995.00  9978.49     999768.00  4994.90"
      ]
     },
     "metadata": {},
     "output_type": "display_data"
    }
   ],
   "source": [
    "# Descriptive Statistics of the Non-Categorical Set.\n",
    "non_categorical_stats = non_categorical_df.describe()\n",
    "non_categorical_stats= np.round(non_categorical_stats,2)\n",
    "# Display the statistics\n",
    "display(non_categorical_stats)"
   ]
  },
  {
   "cell_type": "code",
   "execution_count": 11,
   "id": "7d4d09a3-d2b5-4c36-b7b0-c4b99251eb08",
   "metadata": {},
   "outputs": [
    {
     "data": {
      "text/html": [
       "<div>\n",
       "<style scoped>\n",
       "    .dataframe tbody tr th:only-of-type {\n",
       "        vertical-align: middle;\n",
       "    }\n",
       "\n",
       "    .dataframe tbody tr th {\n",
       "        vertical-align: top;\n",
       "    }\n",
       "\n",
       "    .dataframe thead th {\n",
       "        text-align: right;\n",
       "    }\n",
       "</style>\n",
       "<table border=\"1\" class=\"dataframe\">\n",
       "  <thead>\n",
       "    <tr style=\"text-align: right;\">\n",
       "      <th></th>\n",
       "      <th>Country</th>\n",
       "      <th>Product</th>\n",
       "      <th>Import_Export</th>\n",
       "      <th>Category</th>\n",
       "      <th>Port</th>\n",
       "      <th>Shipping_Method</th>\n",
       "      <th>Supplier</th>\n",
       "      <th>Customer</th>\n",
       "      <th>Payment_Terms</th>\n",
       "    </tr>\n",
       "  </thead>\n",
       "  <tbody>\n",
       "    <tr>\n",
       "      <th>11814</th>\n",
       "      <td>Burundi</td>\n",
       "      <td>color</td>\n",
       "      <td>Import</td>\n",
       "      <td>Clothing</td>\n",
       "      <td>Dunnchester</td>\n",
       "      <td>Sea</td>\n",
       "      <td>Allen-Taylor</td>\n",
       "      <td>Neil Burton</td>\n",
       "      <td>Net 60</td>\n",
       "    </tr>\n",
       "    <tr>\n",
       "      <th>10057</th>\n",
       "      <td>Indonesia</td>\n",
       "      <td>education</td>\n",
       "      <td>Export</td>\n",
       "      <td>Furniture</td>\n",
       "      <td>Masonborough</td>\n",
       "      <td>Sea</td>\n",
       "      <td>Garcia Group</td>\n",
       "      <td>Edward Rogers</td>\n",
       "      <td>Prepaid</td>\n",
       "    </tr>\n",
       "    <tr>\n",
       "      <th>1132</th>\n",
       "      <td>Finland</td>\n",
       "      <td>research</td>\n",
       "      <td>Import</td>\n",
       "      <td>Toys</td>\n",
       "      <td>Lake Codyside</td>\n",
       "      <td>Land</td>\n",
       "      <td>Castro Inc</td>\n",
       "      <td>Kimberly Shaffer</td>\n",
       "      <td>Net 60</td>\n",
       "    </tr>\n",
       "    <tr>\n",
       "      <th>6534</th>\n",
       "      <td>Svalbard &amp; Jan Mayen Islands</td>\n",
       "      <td>field</td>\n",
       "      <td>Import</td>\n",
       "      <td>Furniture</td>\n",
       "      <td>New Branditon</td>\n",
       "      <td>Air</td>\n",
       "      <td>Jackson Ltd</td>\n",
       "      <td>Jill Anderson</td>\n",
       "      <td>Prepaid</td>\n",
       "    </tr>\n",
       "    <tr>\n",
       "      <th>9391</th>\n",
       "      <td>Samoa</td>\n",
       "      <td>important</td>\n",
       "      <td>Import</td>\n",
       "      <td>Clothing</td>\n",
       "      <td>New Jerome</td>\n",
       "      <td>Land</td>\n",
       "      <td>Lawson-Anderson</td>\n",
       "      <td>Danielle Bennett</td>\n",
       "      <td>Net 30</td>\n",
       "    </tr>\n",
       "    <tr>\n",
       "      <th>...</th>\n",
       "      <td>...</td>\n",
       "      <td>...</td>\n",
       "      <td>...</td>\n",
       "      <td>...</td>\n",
       "      <td>...</td>\n",
       "      <td>...</td>\n",
       "      <td>...</td>\n",
       "      <td>...</td>\n",
       "      <td>...</td>\n",
       "    </tr>\n",
       "    <tr>\n",
       "      <th>4684</th>\n",
       "      <td>North Macedonia</td>\n",
       "      <td>stay</td>\n",
       "      <td>Export</td>\n",
       "      <td>Toys</td>\n",
       "      <td>New Maxwell</td>\n",
       "      <td>Land</td>\n",
       "      <td>Gonzales Ltd</td>\n",
       "      <td>William Wood</td>\n",
       "      <td>Net 60</td>\n",
       "    </tr>\n",
       "    <tr>\n",
       "      <th>6602</th>\n",
       "      <td>Slovenia</td>\n",
       "      <td>level</td>\n",
       "      <td>Import</td>\n",
       "      <td>Electronics</td>\n",
       "      <td>Christyton</td>\n",
       "      <td>Air</td>\n",
       "      <td>Quinn Ltd</td>\n",
       "      <td>Jennifer Andrews</td>\n",
       "      <td>Cash on Delivery</td>\n",
       "    </tr>\n",
       "    <tr>\n",
       "      <th>11778</th>\n",
       "      <td>Saint Helena</td>\n",
       "      <td>place</td>\n",
       "      <td>Import</td>\n",
       "      <td>Electronics</td>\n",
       "      <td>Spencerport</td>\n",
       "      <td>Land</td>\n",
       "      <td>Robles, Smith and Hopkins</td>\n",
       "      <td>Donald Calderon DDS</td>\n",
       "      <td>Prepaid</td>\n",
       "    </tr>\n",
       "    <tr>\n",
       "      <th>12472</th>\n",
       "      <td>Heard Island and McDonald Islands</td>\n",
       "      <td>decade</td>\n",
       "      <td>Export</td>\n",
       "      <td>Machinery</td>\n",
       "      <td>South Jason</td>\n",
       "      <td>Air</td>\n",
       "      <td>Gonzales Group</td>\n",
       "      <td>Jerry Simpson</td>\n",
       "      <td>Cash on Delivery</td>\n",
       "    </tr>\n",
       "    <tr>\n",
       "      <th>6719</th>\n",
       "      <td>Latvia</td>\n",
       "      <td>before</td>\n",
       "      <td>Export</td>\n",
       "      <td>Clothing</td>\n",
       "      <td>East Derrick</td>\n",
       "      <td>Air</td>\n",
       "      <td>Higgins, Ramos and Garrett</td>\n",
       "      <td>Michael Wade</td>\n",
       "      <td>Prepaid</td>\n",
       "    </tr>\n",
       "  </tbody>\n",
       "</table>\n",
       "<p>2001 rows × 9 columns</p>\n",
       "</div>"
      ],
      "text/plain": [
       "                                 Country    Product Import_Export  \\\n",
       "11814                            Burundi      color        Import   \n",
       "10057                          Indonesia  education        Export   \n",
       "1132                             Finland   research        Import   \n",
       "6534        Svalbard & Jan Mayen Islands      field        Import   \n",
       "9391                               Samoa  important        Import   \n",
       "...                                  ...        ...           ...   \n",
       "4684                     North Macedonia       stay        Export   \n",
       "6602                            Slovenia      level        Import   \n",
       "11778                       Saint Helena      place        Import   \n",
       "12472  Heard Island and McDonald Islands     decade        Export   \n",
       "6719                              Latvia     before        Export   \n",
       "\n",
       "          Category           Port Shipping_Method                    Supplier  \\\n",
       "11814     Clothing    Dunnchester             Sea                Allen-Taylor   \n",
       "10057    Furniture   Masonborough             Sea                Garcia Group   \n",
       "1132          Toys  Lake Codyside            Land                  Castro Inc   \n",
       "6534     Furniture  New Branditon             Air                 Jackson Ltd   \n",
       "9391      Clothing     New Jerome            Land             Lawson-Anderson   \n",
       "...            ...            ...             ...                         ...   \n",
       "4684          Toys    New Maxwell            Land                Gonzales Ltd   \n",
       "6602   Electronics     Christyton             Air                   Quinn Ltd   \n",
       "11778  Electronics    Spencerport            Land   Robles, Smith and Hopkins   \n",
       "12472    Machinery    South Jason             Air              Gonzales Group   \n",
       "6719      Clothing   East Derrick             Air  Higgins, Ramos and Garrett   \n",
       "\n",
       "                  Customer     Payment_Terms  \n",
       "11814          Neil Burton            Net 60  \n",
       "10057        Edward Rogers           Prepaid  \n",
       "1132      Kimberly Shaffer            Net 60  \n",
       "6534         Jill Anderson           Prepaid  \n",
       "9391      Danielle Bennett            Net 30  \n",
       "...                    ...               ...  \n",
       "4684          William Wood            Net 60  \n",
       "6602      Jennifer Andrews  Cash on Delivery  \n",
       "11778  Donald Calderon DDS           Prepaid  \n",
       "12472        Jerry Simpson  Cash on Delivery  \n",
       "6719          Michael Wade           Prepaid  \n",
       "\n",
       "[2001 rows x 9 columns]"
      ]
     },
     "execution_count": 11,
     "metadata": {},
     "output_type": "execute_result"
    }
   ],
   "source": [
    "#Subseting the Categorical Variables.\n",
    "categorical_variables = [\"Country\", \"Product\", \"Import_Export\", \"Category\", \"Port\", \"Shipping_Method\", \"Supplier\", \"Customer\", \"Payment_Terms\"\n",
    "\n",
    "]\n",
    "categ = sample[categorical_variables]\n",
    "categ"
   ]
  },
  {
   "cell_type": "code",
   "execution_count": 12,
   "id": "96dc5afb-3dfe-41b4-a7e1-6e47273bc6d8",
   "metadata": {},
   "outputs": [
    {
     "data": {
      "text/html": [
       "<div>\n",
       "<style scoped>\n",
       "    .dataframe tbody tr th:only-of-type {\n",
       "        vertical-align: middle;\n",
       "    }\n",
       "\n",
       "    .dataframe tbody tr th {\n",
       "        vertical-align: top;\n",
       "    }\n",
       "\n",
       "    .dataframe thead th {\n",
       "        text-align: right;\n",
       "    }\n",
       "</style>\n",
       "<table border=\"1\" class=\"dataframe\">\n",
       "  <thead>\n",
       "    <tr style=\"text-align: right;\">\n",
       "      <th></th>\n",
       "      <th>Category</th>\n",
       "    </tr>\n",
       "  </thead>\n",
       "  <tbody>\n",
       "    <tr>\n",
       "      <th>Machinery</th>\n",
       "      <td>411</td>\n",
       "    </tr>\n",
       "    <tr>\n",
       "      <th>Furniture</th>\n",
       "      <td>410</td>\n",
       "    </tr>\n",
       "    <tr>\n",
       "      <th>Toys</th>\n",
       "      <td>406</td>\n",
       "    </tr>\n",
       "    <tr>\n",
       "      <th>Clothing</th>\n",
       "      <td>391</td>\n",
       "    </tr>\n",
       "    <tr>\n",
       "      <th>Electronics</th>\n",
       "      <td>383</td>\n",
       "    </tr>\n",
       "  </tbody>\n",
       "</table>\n",
       "</div>"
      ],
      "text/plain": [
       "             Category\n",
       "Machinery         411\n",
       "Furniture         410\n",
       "Toys              406\n",
       "Clothing          391\n",
       "Electronics       383"
      ]
     },
     "metadata": {},
     "output_type": "display_data"
    }
   ],
   "source": [
    "#Descriptive Statistics of Any 01 Categorical Variable.\n",
    "display(pd.DataFrame(sample[\"Category\"].value_counts()))"
   ]
  },
  {
   "cell_type": "markdown",
   "id": "de999e0e-a7e6-423f-b49d-f00c625747b4",
   "metadata": {},
   "source": [
    "## **1.Descriptive Statistics**"
   ]
  },
  {
   "cell_type": "markdown",
   "id": "eee787aa-11e6-4546-85dd-d41413cc6e55",
   "metadata": {},
   "source": [
    "### **Measures of Central Tendency**"
   ]
  },
  {
   "cell_type": "code",
   "execution_count": 13,
   "id": "1ffadd3d-aa79-4de1-8324-9ba2261d688d",
   "metadata": {},
   "outputs": [
    {
     "name": "stdout",
     "output_type": "stream",
     "text": [
      "\n",
      " Mean :\n"
     ]
    },
    {
     "data": {
      "text/html": [
       "<div>\n",
       "<style scoped>\n",
       "    .dataframe tbody tr th:only-of-type {\n",
       "        vertical-align: middle;\n",
       "    }\n",
       "\n",
       "    .dataframe tbody tr th {\n",
       "        vertical-align: top;\n",
       "    }\n",
       "\n",
       "    .dataframe thead th {\n",
       "        text-align: right;\n",
       "    }\n",
       "</style>\n",
       "<table border=\"1\" class=\"dataframe\">\n",
       "  <thead>\n",
       "    <tr style=\"text-align: right;\">\n",
       "      <th></th>\n",
       "      <th>Mean</th>\n",
       "    </tr>\n",
       "  </thead>\n",
       "  <tbody>\n",
       "    <tr>\n",
       "      <th>Quantity</th>\n",
       "      <td>5051.71</td>\n",
       "    </tr>\n",
       "    <tr>\n",
       "      <th>Value</th>\n",
       "      <td>4979.36</td>\n",
       "    </tr>\n",
       "    <tr>\n",
       "      <th>Weight</th>\n",
       "      <td>2488.80</td>\n",
       "    </tr>\n",
       "  </tbody>\n",
       "</table>\n",
       "</div>"
      ],
      "text/plain": [
       "             Mean\n",
       "Quantity  5051.71\n",
       "Value     4979.36\n",
       "Weight    2488.80"
      ]
     },
     "metadata": {},
     "output_type": "display_data"
    },
    {
     "name": "stdout",
     "output_type": "stream",
     "text": [
      "\n",
      " Median :\n"
     ]
    },
    {
     "data": {
      "text/html": [
       "<div>\n",
       "<style scoped>\n",
       "    .dataframe tbody tr th:only-of-type {\n",
       "        vertical-align: middle;\n",
       "    }\n",
       "\n",
       "    .dataframe tbody tr th {\n",
       "        vertical-align: top;\n",
       "    }\n",
       "\n",
       "    .dataframe thead th {\n",
       "        text-align: right;\n",
       "    }\n",
       "</style>\n",
       "<table border=\"1\" class=\"dataframe\">\n",
       "  <thead>\n",
       "    <tr style=\"text-align: right;\">\n",
       "      <th></th>\n",
       "      <th>Median</th>\n",
       "    </tr>\n",
       "  </thead>\n",
       "  <tbody>\n",
       "    <tr>\n",
       "      <th>Quantity</th>\n",
       "      <td>5084.00</td>\n",
       "    </tr>\n",
       "    <tr>\n",
       "      <th>Value</th>\n",
       "      <td>4976.50</td>\n",
       "    </tr>\n",
       "    <tr>\n",
       "      <th>Weight</th>\n",
       "      <td>2469.49</td>\n",
       "    </tr>\n",
       "  </tbody>\n",
       "</table>\n",
       "</div>"
      ],
      "text/plain": [
       "           Median\n",
       "Quantity  5084.00\n",
       "Value     4976.50\n",
       "Weight    2469.49"
      ]
     },
     "metadata": {},
     "output_type": "display_data"
    },
    {
     "name": "stdout",
     "output_type": "stream",
     "text": [
      "\n",
      " Mode of Weights : \n"
     ]
    },
    {
     "data": {
      "text/html": [
       "<div>\n",
       "<style scoped>\n",
       "    .dataframe tbody tr th:only-of-type {\n",
       "        vertical-align: middle;\n",
       "    }\n",
       "\n",
       "    .dataframe tbody tr th {\n",
       "        vertical-align: top;\n",
       "    }\n",
       "\n",
       "    .dataframe thead th {\n",
       "        text-align: right;\n",
       "    }\n",
       "</style>\n",
       "<table border=\"1\" class=\"dataframe\">\n",
       "  <thead>\n",
       "    <tr style=\"text-align: right;\">\n",
       "      <th></th>\n",
       "      <th>Mode of Weights</th>\n",
       "    </tr>\n",
       "  </thead>\n",
       "  <tbody>\n",
       "    <tr>\n",
       "      <th>0</th>\n",
       "      <td>2165.57</td>\n",
       "    </tr>\n",
       "    <tr>\n",
       "      <th>1</th>\n",
       "      <td>2534.02</td>\n",
       "    </tr>\n",
       "    <tr>\n",
       "      <th>2</th>\n",
       "      <td>2560.19</td>\n",
       "    </tr>\n",
       "    <tr>\n",
       "      <th>3</th>\n",
       "      <td>4252.62</td>\n",
       "    </tr>\n",
       "  </tbody>\n",
       "</table>\n",
       "</div>"
      ],
      "text/plain": [
       "   Mode of Weights\n",
       "0          2165.57\n",
       "1          2534.02\n",
       "2          2560.19\n",
       "3          4252.62"
      ]
     },
     "metadata": {},
     "output_type": "display_data"
    }
   ],
   "source": [
    "# Mean, Median, Mode\n",
    "non_categorical_df_1 = non_categorical_df = sample[[\"Quantity\", \"Value\", \"Weight\"]] \n",
    "mean_values = pd.DataFrame(non_categorical_df_1.mean())\n",
    "mean_values.columns = ['Mean']\n",
    "median_values = pd.DataFrame(non_categorical_df_1.median())\n",
    "median_values.columns = ['Median']\n",
    "mode_values = sample[[\"Weight\"]].mode()\n",
    "mode_values.columns = ['Mode of Weights']\n",
    "print(\"\\n Mean :\")\n",
    "display(np.round(mean_values,2))\n",
    "print(\"\\n Median :\")\n",
    "display(median_values)\n",
    "print(\"\\n Mode of Weights : \")\n",
    "display(mode_values)"
   ]
  },
  {
   "cell_type": "markdown",
   "id": "9ac93c83",
   "metadata": {},
   "source": [
    "## Maximum and Minimum Table"
   ]
  },
  {
   "cell_type": "code",
   "execution_count": 14,
   "id": "816c1f8b",
   "metadata": {},
   "outputs": [
    {
     "name": "stdout",
     "output_type": "stream",
     "text": [
      "\n",
      "Minimum Table:\n"
     ]
    },
    {
     "data": {
      "text/html": [
       "<div>\n",
       "<style scoped>\n",
       "    .dataframe tbody tr th:only-of-type {\n",
       "        vertical-align: middle;\n",
       "    }\n",
       "\n",
       "    .dataframe tbody tr th {\n",
       "        vertical-align: top;\n",
       "    }\n",
       "\n",
       "    .dataframe thead th {\n",
       "        text-align: right;\n",
       "    }\n",
       "</style>\n",
       "<table border=\"1\" class=\"dataframe\">\n",
       "  <thead>\n",
       "    <tr style=\"text-align: right;\">\n",
       "      <th></th>\n",
       "      <th>Minimum</th>\n",
       "    </tr>\n",
       "  </thead>\n",
       "  <tbody>\n",
       "    <tr>\n",
       "      <th>Country</th>\n",
       "      <td>Afghanistan</td>\n",
       "    </tr>\n",
       "    <tr>\n",
       "      <th>Product</th>\n",
       "      <td>American</td>\n",
       "    </tr>\n",
       "    <tr>\n",
       "      <th>Import_Export</th>\n",
       "      <td>Export</td>\n",
       "    </tr>\n",
       "    <tr>\n",
       "      <th>Category</th>\n",
       "      <td>Clothing</td>\n",
       "    </tr>\n",
       "    <tr>\n",
       "      <th>Port</th>\n",
       "      <td>Aaronborough</td>\n",
       "    </tr>\n",
       "    <tr>\n",
       "      <th>Shipping_Method</th>\n",
       "      <td>Air</td>\n",
       "    </tr>\n",
       "    <tr>\n",
       "      <th>Supplier</th>\n",
       "      <td>Abbott LLC</td>\n",
       "    </tr>\n",
       "    <tr>\n",
       "      <th>Customer</th>\n",
       "      <td>Aaron Barnes</td>\n",
       "    </tr>\n",
       "    <tr>\n",
       "      <th>Payment_Terms</th>\n",
       "      <td>Cash on Delivery</td>\n",
       "    </tr>\n",
       "  </tbody>\n",
       "</table>\n",
       "</div>"
      ],
      "text/plain": [
       "                          Minimum\n",
       "Country               Afghanistan\n",
       "Product                  American\n",
       "Import_Export              Export\n",
       "Category                 Clothing\n",
       "Port                 Aaronborough\n",
       "Shipping_Method               Air\n",
       "Supplier               Abbott LLC\n",
       "Customer             Aaron Barnes\n",
       "Payment_Terms    Cash on Delivery"
      ]
     },
     "metadata": {},
     "output_type": "display_data"
    },
    {
     "name": "stdout",
     "output_type": "stream",
     "text": [
      "\n",
      "Maximum Table:\n"
     ]
    },
    {
     "data": {
      "text/html": [
       "<div>\n",
       "<style scoped>\n",
       "    .dataframe tbody tr th:only-of-type {\n",
       "        vertical-align: middle;\n",
       "    }\n",
       "\n",
       "    .dataframe tbody tr th {\n",
       "        vertical-align: top;\n",
       "    }\n",
       "\n",
       "    .dataframe thead th {\n",
       "        text-align: right;\n",
       "    }\n",
       "</style>\n",
       "<table border=\"1\" class=\"dataframe\">\n",
       "  <thead>\n",
       "    <tr style=\"text-align: right;\">\n",
       "      <th></th>\n",
       "      <th>Maximum</th>\n",
       "    </tr>\n",
       "  </thead>\n",
       "  <tbody>\n",
       "    <tr>\n",
       "      <th>Country</th>\n",
       "      <td>Zimbabwe</td>\n",
       "    </tr>\n",
       "    <tr>\n",
       "      <th>Product</th>\n",
       "      <td>yourself</td>\n",
       "    </tr>\n",
       "    <tr>\n",
       "      <th>Import_Export</th>\n",
       "      <td>Import</td>\n",
       "    </tr>\n",
       "    <tr>\n",
       "      <th>Category</th>\n",
       "      <td>Toys</td>\n",
       "    </tr>\n",
       "    <tr>\n",
       "      <th>Port</th>\n",
       "      <td>Zacharyland</td>\n",
       "    </tr>\n",
       "    <tr>\n",
       "      <th>Shipping_Method</th>\n",
       "      <td>Sea</td>\n",
       "    </tr>\n",
       "    <tr>\n",
       "      <th>Supplier</th>\n",
       "      <td>Zimmerman Ltd</td>\n",
       "    </tr>\n",
       "    <tr>\n",
       "      <th>Customer</th>\n",
       "      <td>Zoe Martin</td>\n",
       "    </tr>\n",
       "    <tr>\n",
       "      <th>Payment_Terms</th>\n",
       "      <td>Prepaid</td>\n",
       "    </tr>\n",
       "  </tbody>\n",
       "</table>\n",
       "</div>"
      ],
      "text/plain": [
       "                       Maximum\n",
       "Country               Zimbabwe\n",
       "Product               yourself\n",
       "Import_Export           Import\n",
       "Category                  Toys\n",
       "Port               Zacharyland\n",
       "Shipping_Method            Sea\n",
       "Supplier         Zimmerman Ltd\n",
       "Customer            Zoe Martin\n",
       "Payment_Terms          Prepaid"
      ]
     },
     "metadata": {},
     "output_type": "display_data"
    }
   ],
   "source": [
    "#Minimum Table\n",
    "min_table = pd.DataFrame(index=categorical_variables, columns=['Minimum'])\n",
    "for col in categorical_variables:\n",
    "    min_table.loc[col] = sample[col].min()\n",
    "print(\"\\nMinimum Table:\")\n",
    "display(min_table)\n",
    "\n",
    "#Maximum Table\n",
    "max_table = pd.DataFrame(index=categorical_variables, columns=['Maximum'])\n",
    "for col in categorical_variables:\n",
    "    max_table.loc[col] = sample[col].max()\n",
    "print(\"\\nMaximum Table:\")\n",
    "display(max_table)"
   ]
  },
  {
   "cell_type": "markdown",
   "id": "7ce192f0-3996-4693-85c4-b8d9d5894dd5",
   "metadata": {},
   "source": [
    "## **Measures of Dispersion**"
   ]
  },
  {
   "cell_type": "code",
   "execution_count": 15,
   "id": "d6ca541e-0f43-4b5e-9d4c-1fd974383c9f",
   "metadata": {},
   "outputs": [
    {
     "name": "stdout",
     "output_type": "stream",
     "text": [
      "Range:\n",
      " Quantity    9980.00\n",
      "Value       9876.37\n",
      "Weight      4987.79\n",
      "dtype: float64\n",
      "Standard Deviation:\n",
      " Quantity    2856.525391\n",
      "Value       2868.669902\n",
      "Weight      1441.444877\n",
      "dtype: float64\n",
      "Variance:\n",
      " Quantity    8.159737e+06\n",
      "Value       8.229267e+06\n",
      "Weight      2.077763e+06\n",
      "dtype: float64\n"
     ]
    }
   ],
   "source": [
    "# Range, Standard Deviation, Variance\n",
    "range_values = non_categorical_df.max() - non_categorical_df.min()\n",
    "std_dev_values = non_categorical_df.std()\n",
    "variance_values = non_categorical_df.var()\n",
    "\n",
    "print(\"Range:\\n\", range_values)\n",
    "print(\"Standard Deviation:\\n\", std_dev_values)\n",
    "print(\"Variance:\\n\", variance_values)"
   ]
  },
  {
   "cell_type": "markdown",
   "id": "9723277d-da4e-4998-9e25-55714d00671e",
   "metadata": {},
   "source": [
    " #### **Skewness and Kurtosis**"
   ]
  },
  {
   "cell_type": "code",
   "execution_count": 16,
   "id": "84923a91-dbb5-4536-8760-445921b42d19",
   "metadata": {},
   "outputs": [
    {
     "name": "stdout",
     "output_type": "stream",
     "text": [
      "Skewness:\n",
      " Quantity   -0.039555\n",
      "Value       0.052275\n",
      "Weight      0.019619\n",
      "dtype: float64\n",
      "Kurtosis:\n",
      " Quantity   -1.169719\n",
      "Value      -1.208805\n",
      "Weight     -1.182574\n",
      "dtype: float64\n"
     ]
    }
   ],
   "source": [
    "# Skewness and Kurtosis\n",
    "skewness = non_categorical_df.skew()\n",
    "kurtosis = non_categorical_df.kurt()\n",
    "\n",
    "print(\"Skewness:\\n\", skewness)\n",
    "print(\"Kurtosis:\\n\", kurtosis)"
   ]
  },
  {
   "cell_type": "markdown",
   "id": "eac68d14-8bd4-4eb6-9f12-02f41384d179",
   "metadata": {},
   "source": [
    "**Correlation between Non-Categorical Variables**"
   ]
  },
  {
   "cell_type": "code",
   "execution_count": 17,
   "id": "4d416be9-bfcd-43df-9c93-558bd55ae937",
   "metadata": {},
   "outputs": [
    {
     "name": "stdout",
     "output_type": "stream",
     "text": [
      "Correlation Matrix:\n",
      "           Quantity     Value    Weight\n",
      "Quantity  1.000000 -0.044884  0.010607\n",
      "Value    -0.044884  1.000000 -0.007234\n",
      "Weight    0.010607 -0.007234  1.000000\n"
     ]
    }
   ],
   "source": [
    "# Correlation Matrix\n",
    "correlation_matrix = non_categorical_df.corr()\n",
    "\n",
    "print(\"Correlation Matrix:\\n\", correlation_matrix)"
   ]
  },
  {
   "cell_type": "markdown",
   "id": "6d3f3c53-b0f5-4e8b-ad67-3cc3b8e6e220",
   "metadata": {},
   "source": [
    "## **2.Categorical Data Analysis**"
   ]
  },
  {
   "cell_type": "markdown",
   "id": "2860df45-4451-408d-827c-2b410bb4368a",
   "metadata": {},
   "source": [
    "**Frequency Distribution for Categorical Data (e.g., Country, Product, Shipping_Method)**"
   ]
  },
  {
   "cell_type": "code",
   "execution_count": 63,
   "id": "38203a16-8b37-4d83-b1d0-b8f61f326221",
   "metadata": {},
   "outputs": [
    {
     "name": "stdout",
     "output_type": "stream",
     "text": [
      "\n",
      "Frequency Table for Country:\n",
      "\n"
     ]
    },
    {
     "data": {
      "text/html": [
       "<div>\n",
       "<style scoped>\n",
       "    .dataframe tbody tr th:only-of-type {\n",
       "        vertical-align: middle;\n",
       "    }\n",
       "\n",
       "    .dataframe tbody tr th {\n",
       "        vertical-align: top;\n",
       "    }\n",
       "\n",
       "    .dataframe thead th {\n",
       "        text-align: right;\n",
       "    }\n",
       "</style>\n",
       "<table border=\"1\" class=\"dataframe\">\n",
       "  <thead>\n",
       "    <tr style=\"text-align: right;\">\n",
       "      <th></th>\n",
       "      <th>Country</th>\n",
       "      <th>Frequency</th>\n",
       "    </tr>\n",
       "  </thead>\n",
       "  <tbody>\n",
       "    <tr>\n",
       "      <th>0</th>\n",
       "      <td>Cuba</td>\n",
       "      <td>16</td>\n",
       "    </tr>\n",
       "    <tr>\n",
       "      <th>1</th>\n",
       "      <td>Antigua and Barbuda</td>\n",
       "      <td>16</td>\n",
       "    </tr>\n",
       "    <tr>\n",
       "      <th>2</th>\n",
       "      <td>Barbados</td>\n",
       "      <td>15</td>\n",
       "    </tr>\n",
       "    <tr>\n",
       "      <th>3</th>\n",
       "      <td>Jersey</td>\n",
       "      <td>14</td>\n",
       "    </tr>\n",
       "    <tr>\n",
       "      <th>4</th>\n",
       "      <td>French Guiana</td>\n",
       "      <td>14</td>\n",
       "    </tr>\n",
       "    <tr>\n",
       "      <th>...</th>\n",
       "      <td>...</td>\n",
       "      <td>...</td>\n",
       "    </tr>\n",
       "    <tr>\n",
       "      <th>238</th>\n",
       "      <td>Afghanistan</td>\n",
       "      <td>3</td>\n",
       "    </tr>\n",
       "    <tr>\n",
       "      <th>239</th>\n",
       "      <td>Ecuador</td>\n",
       "      <td>2</td>\n",
       "    </tr>\n",
       "    <tr>\n",
       "      <th>240</th>\n",
       "      <td>Tonga</td>\n",
       "      <td>2</td>\n",
       "    </tr>\n",
       "    <tr>\n",
       "      <th>241</th>\n",
       "      <td>French Polynesia</td>\n",
       "      <td>2</td>\n",
       "    </tr>\n",
       "    <tr>\n",
       "      <th>242</th>\n",
       "      <td>Antarctica (the territory South of 60 deg S)</td>\n",
       "      <td>1</td>\n",
       "    </tr>\n",
       "  </tbody>\n",
       "</table>\n",
       "<p>243 rows × 2 columns</p>\n",
       "</div>"
      ],
      "text/plain": [
       "                                          Country  Frequency\n",
       "0                                            Cuba         16\n",
       "1                             Antigua and Barbuda         16\n",
       "2                                        Barbados         15\n",
       "3                                          Jersey         14\n",
       "4                                   French Guiana         14\n",
       "..                                            ...        ...\n",
       "238                                   Afghanistan          3\n",
       "239                                       Ecuador          2\n",
       "240                                         Tonga          2\n",
       "241                              French Polynesia          2\n",
       "242  Antarctica (the territory South of 60 deg S)          1\n",
       "\n",
       "[243 rows x 2 columns]"
      ]
     },
     "metadata": {},
     "output_type": "display_data"
    },
    {
     "name": "stdout",
     "output_type": "stream",
     "text": [
      "\n",
      "Frequency Table for Product:\n",
      "\n"
     ]
    },
    {
     "data": {
      "text/html": [
       "<div>\n",
       "<style scoped>\n",
       "    .dataframe tbody tr th:only-of-type {\n",
       "        vertical-align: middle;\n",
       "    }\n",
       "\n",
       "    .dataframe tbody tr th {\n",
       "        vertical-align: top;\n",
       "    }\n",
       "\n",
       "    .dataframe thead th {\n",
       "        text-align: right;\n",
       "    }\n",
       "</style>\n",
       "<table border=\"1\" class=\"dataframe\">\n",
       "  <thead>\n",
       "    <tr style=\"text-align: right;\">\n",
       "      <th></th>\n",
       "      <th>Product</th>\n",
       "      <th>Frequency</th>\n",
       "    </tr>\n",
       "  </thead>\n",
       "  <tbody>\n",
       "    <tr>\n",
       "      <th>0</th>\n",
       "      <td>travel</td>\n",
       "      <td>9</td>\n",
       "    </tr>\n",
       "    <tr>\n",
       "      <th>1</th>\n",
       "      <td>student</td>\n",
       "      <td>7</td>\n",
       "    </tr>\n",
       "    <tr>\n",
       "      <th>2</th>\n",
       "      <td>family</td>\n",
       "      <td>7</td>\n",
       "    </tr>\n",
       "    <tr>\n",
       "      <th>3</th>\n",
       "      <td>beyond</td>\n",
       "      <td>7</td>\n",
       "    </tr>\n",
       "    <tr>\n",
       "      <th>4</th>\n",
       "      <td>story</td>\n",
       "      <td>7</td>\n",
       "    </tr>\n",
       "    <tr>\n",
       "      <th>...</th>\n",
       "      <td>...</td>\n",
       "      <td>...</td>\n",
       "    </tr>\n",
       "    <tr>\n",
       "      <th>855</th>\n",
       "      <td>third</td>\n",
       "      <td>1</td>\n",
       "    </tr>\n",
       "    <tr>\n",
       "      <th>856</th>\n",
       "      <td>fall</td>\n",
       "      <td>1</td>\n",
       "    </tr>\n",
       "    <tr>\n",
       "      <th>857</th>\n",
       "      <td>make</td>\n",
       "      <td>1</td>\n",
       "    </tr>\n",
       "    <tr>\n",
       "      <th>858</th>\n",
       "      <td>marriage</td>\n",
       "      <td>1</td>\n",
       "    </tr>\n",
       "    <tr>\n",
       "      <th>859</th>\n",
       "      <td>win</td>\n",
       "      <td>1</td>\n",
       "    </tr>\n",
       "  </tbody>\n",
       "</table>\n",
       "<p>860 rows × 2 columns</p>\n",
       "</div>"
      ],
      "text/plain": [
       "      Product  Frequency\n",
       "0      travel          9\n",
       "1     student          7\n",
       "2      family          7\n",
       "3      beyond          7\n",
       "4       story          7\n",
       "..        ...        ...\n",
       "855     third          1\n",
       "856      fall          1\n",
       "857      make          1\n",
       "858  marriage          1\n",
       "859       win          1\n",
       "\n",
       "[860 rows x 2 columns]"
      ]
     },
     "metadata": {},
     "output_type": "display_data"
    },
    {
     "name": "stdout",
     "output_type": "stream",
     "text": [
      "\n",
      "Frequency Table for Shipping_Method:\n",
      "\n"
     ]
    },
    {
     "data": {
      "text/html": [
       "<div>\n",
       "<style scoped>\n",
       "    .dataframe tbody tr th:only-of-type {\n",
       "        vertical-align: middle;\n",
       "    }\n",
       "\n",
       "    .dataframe tbody tr th {\n",
       "        vertical-align: top;\n",
       "    }\n",
       "\n",
       "    .dataframe thead th {\n",
       "        text-align: right;\n",
       "    }\n",
       "</style>\n",
       "<table border=\"1\" class=\"dataframe\">\n",
       "  <thead>\n",
       "    <tr style=\"text-align: right;\">\n",
       "      <th></th>\n",
       "      <th>Shipping_Method</th>\n",
       "      <th>Frequency</th>\n",
       "    </tr>\n",
       "  </thead>\n",
       "  <tbody>\n",
       "    <tr>\n",
       "      <th>0</th>\n",
       "      <td>Land</td>\n",
       "      <td>675</td>\n",
       "    </tr>\n",
       "    <tr>\n",
       "      <th>1</th>\n",
       "      <td>Sea</td>\n",
       "      <td>672</td>\n",
       "    </tr>\n",
       "    <tr>\n",
       "      <th>2</th>\n",
       "      <td>Air</td>\n",
       "      <td>654</td>\n",
       "    </tr>\n",
       "  </tbody>\n",
       "</table>\n",
       "</div>"
      ],
      "text/plain": [
       "  Shipping_Method  Frequency\n",
       "0            Land        675\n",
       "1             Sea        672\n",
       "2             Air        654"
      ]
     },
     "metadata": {},
     "output_type": "display_data"
    },
    {
     "name": "stdout",
     "output_type": "stream",
     "text": [
      "\n",
      "Frequency Table for Import_Export:\n",
      "\n"
     ]
    },
    {
     "data": {
      "text/html": [
       "<div>\n",
       "<style scoped>\n",
       "    .dataframe tbody tr th:only-of-type {\n",
       "        vertical-align: middle;\n",
       "    }\n",
       "\n",
       "    .dataframe tbody tr th {\n",
       "        vertical-align: top;\n",
       "    }\n",
       "\n",
       "    .dataframe thead th {\n",
       "        text-align: right;\n",
       "    }\n",
       "</style>\n",
       "<table border=\"1\" class=\"dataframe\">\n",
       "  <thead>\n",
       "    <tr style=\"text-align: right;\">\n",
       "      <th></th>\n",
       "      <th>Import_Export</th>\n",
       "      <th>Frequency</th>\n",
       "    </tr>\n",
       "  </thead>\n",
       "  <tbody>\n",
       "    <tr>\n",
       "      <th>0</th>\n",
       "      <td>Import</td>\n",
       "      <td>1004</td>\n",
       "    </tr>\n",
       "    <tr>\n",
       "      <th>1</th>\n",
       "      <td>Export</td>\n",
       "      <td>997</td>\n",
       "    </tr>\n",
       "  </tbody>\n",
       "</table>\n",
       "</div>"
      ],
      "text/plain": [
       "  Import_Export  Frequency\n",
       "0        Import       1004\n",
       "1        Export        997"
      ]
     },
     "metadata": {},
     "output_type": "display_data"
    },
    {
     "name": "stdout",
     "output_type": "stream",
     "text": [
      "\n",
      "Frequency Table for Payment_Terms:\n",
      "\n"
     ]
    },
    {
     "data": {
      "text/html": [
       "<div>\n",
       "<style scoped>\n",
       "    .dataframe tbody tr th:only-of-type {\n",
       "        vertical-align: middle;\n",
       "    }\n",
       "\n",
       "    .dataframe tbody tr th {\n",
       "        vertical-align: top;\n",
       "    }\n",
       "\n",
       "    .dataframe thead th {\n",
       "        text-align: right;\n",
       "    }\n",
       "</style>\n",
       "<table border=\"1\" class=\"dataframe\">\n",
       "  <thead>\n",
       "    <tr style=\"text-align: right;\">\n",
       "      <th></th>\n",
       "      <th>Payment_Terms</th>\n",
       "      <th>Frequency</th>\n",
       "    </tr>\n",
       "  </thead>\n",
       "  <tbody>\n",
       "    <tr>\n",
       "      <th>0</th>\n",
       "      <td>Prepaid</td>\n",
       "      <td>526</td>\n",
       "    </tr>\n",
       "    <tr>\n",
       "      <th>1</th>\n",
       "      <td>Net 60</td>\n",
       "      <td>498</td>\n",
       "    </tr>\n",
       "    <tr>\n",
       "      <th>2</th>\n",
       "      <td>Net 30</td>\n",
       "      <td>490</td>\n",
       "    </tr>\n",
       "    <tr>\n",
       "      <th>3</th>\n",
       "      <td>Cash on Delivery</td>\n",
       "      <td>487</td>\n",
       "    </tr>\n",
       "  </tbody>\n",
       "</table>\n",
       "</div>"
      ],
      "text/plain": [
       "      Payment_Terms  Frequency\n",
       "0           Prepaid        526\n",
       "1            Net 60        498\n",
       "2            Net 30        490\n",
       "3  Cash on Delivery        487"
      ]
     },
     "metadata": {},
     "output_type": "display_data"
    }
   ],
   "source": [
    "# Frequency counts for categorical columns\n",
    "category_columns = ['Country', 'Product', 'Shipping_Method','Import_Export' , \"Payment_Terms\"]\n",
    "\n",
    "cat_data = sample[category_columns]  # Make sure your sample dataset is correct\n",
    "\n",
    "# Initializing an empty dictionary to store frequency tables\n",
    "frequency_tables = {}\n",
    "\n",
    "# Looping through each column and calculate the frequency table\n",
    "for col in category_columns:\n",
    "    if col in cat_data.columns:\n",
    "        # Calculating frequency using value_counts()\n",
    "        frequency_table = cat_data[col].value_counts().reset_index()\n",
    "        frequency_table.columns = [col, 'Frequency']\n",
    "        \n",
    "        # Storing the frequency table in the dictionary\n",
    "        frequency_tables[col] = frequency_table\n",
    "        \n",
    "        # Printing the frequency table for the column\n",
    "        print(f\"\\nFrequency Table for {col}:\\n\")\n",
    "        display(frequency_table)\n",
    "    else:\n",
    "        print(f\"Column '{col}' does not exist in the dataset.\")"
   ]
  },
  {
   "cell_type": "markdown",
   "id": "76dc0469",
   "metadata": {},
   "source": [
    "#### Cross - Tabulation ( Category vs Value and Quantity)"
   ]
  },
  {
   "cell_type": "code",
   "execution_count": 19,
   "id": "43bd185b",
   "metadata": {},
   "outputs": [
    {
     "data": {
      "text/html": [
       "<div>\n",
       "<style scoped>\n",
       "    .dataframe tbody tr th:only-of-type {\n",
       "        vertical-align: middle;\n",
       "    }\n",
       "\n",
       "    .dataframe tbody tr th {\n",
       "        vertical-align: top;\n",
       "    }\n",
       "\n",
       "    .dataframe thead th {\n",
       "        text-align: right;\n",
       "    }\n",
       "</style>\n",
       "<table border=\"1\" class=\"dataframe\">\n",
       "  <thead>\n",
       "    <tr style=\"text-align: right;\">\n",
       "      <th></th>\n",
       "      <th>Country</th>\n",
       "      <th>Avg_Value</th>\n",
       "      <th>Avg_Quantity</th>\n",
       "    </tr>\n",
       "  </thead>\n",
       "  <tbody>\n",
       "    <tr>\n",
       "      <th>1</th>\n",
       "      <td>Solomon Islands</td>\n",
       "      <td>8335.87</td>\n",
       "      <td>8763.0</td>\n",
       "    </tr>\n",
       "    <tr>\n",
       "      <th>2</th>\n",
       "      <td>Antarctica (the territory South of 60 deg S)</td>\n",
       "      <td>7795.01</td>\n",
       "      <td>7041.0</td>\n",
       "    </tr>\n",
       "    <tr>\n",
       "      <th>3</th>\n",
       "      <td>Norway</td>\n",
       "      <td>7241.06</td>\n",
       "      <td>3757.5</td>\n",
       "    </tr>\n",
       "    <tr>\n",
       "      <th>4</th>\n",
       "      <td>Sri Lanka</td>\n",
       "      <td>7146.90</td>\n",
       "      <td>3387.2</td>\n",
       "    </tr>\n",
       "    <tr>\n",
       "      <th>5</th>\n",
       "      <td>Puerto Rico</td>\n",
       "      <td>7014.90</td>\n",
       "      <td>5314.4</td>\n",
       "    </tr>\n",
       "  </tbody>\n",
       "</table>\n",
       "</div>"
      ],
      "text/plain": [
       "                                        Country  Avg_Value  Avg_Quantity\n",
       "1                               Solomon Islands    8335.87        8763.0\n",
       "2  Antarctica (the territory South of 60 deg S)    7795.01        7041.0\n",
       "3                                        Norway    7241.06        3757.5\n",
       "4                                     Sri Lanka    7146.90        3387.2\n",
       "5                                   Puerto Rico    7014.90        5314.4"
      ]
     },
     "metadata": {},
     "output_type": "display_data"
    }
   ],
   "source": [
    "# Group by 'Country' and calculate the average for 'Value' and 'Quantity'\n",
    "country_avg = sample.groupby('Country').agg(\n",
    "    Avg_Value=('Value', 'mean'),\n",
    "    Avg_Quantity=('Quantity', 'mean')\n",
    ").reset_index()\n",
    "\n",
    "# Sort by 'Avg_Value' and 'Avg_Quantity' in descending order\n",
    "country_avg_sorted = country_avg.sort_values(by=['Avg_Value', 'Avg_Quantity'], ascending=False)\n",
    "\n",
    "# Get the top 5 countries with highest average value and quantity\n",
    "top_5_countries = country_avg_sorted.head(5)\n",
    "top_5_countries = np.round(top_5_countries.reset_index(drop=True),2)\n",
    "top_5_countries.index=top_5_countries.index+1\n",
    "\n",
    "\n",
    "# Display the resulting DataFrame\n",
    "                                                \n",
    "display(top_5_countries)"
   ]
  },
  {
   "cell_type": "markdown",
   "id": "e3be7643",
   "metadata": {},
   "source": [
    "#### Cross - Tabulation ( Maximum Weight in KGs by Shipping Method and Category)"
   ]
  },
  {
   "cell_type": "code",
   "execution_count": 20,
   "id": "c8aebc8b",
   "metadata": {},
   "outputs": [
    {
     "name": "stdout",
     "output_type": "stream",
     "text": [
      "\n",
      " Maximum Weight in KGs by Shipping Method and Category :\n"
     ]
    },
    {
     "data": {
      "text/html": [
       "<div>\n",
       "<style scoped>\n",
       "    .dataframe tbody tr th:only-of-type {\n",
       "        vertical-align: middle;\n",
       "    }\n",
       "\n",
       "    .dataframe tbody tr th {\n",
       "        vertical-align: top;\n",
       "    }\n",
       "\n",
       "    .dataframe thead th {\n",
       "        text-align: right;\n",
       "    }\n",
       "</style>\n",
       "<table border=\"1\" class=\"dataframe\">\n",
       "  <thead>\n",
       "    <tr style=\"text-align: right;\">\n",
       "      <th>Category</th>\n",
       "      <th>Clothing</th>\n",
       "      <th>Electronics</th>\n",
       "      <th>Furniture</th>\n",
       "      <th>Machinery</th>\n",
       "      <th>Toys</th>\n",
       "    </tr>\n",
       "    <tr>\n",
       "      <th>Shipping_Method</th>\n",
       "      <th></th>\n",
       "      <th></th>\n",
       "      <th></th>\n",
       "      <th></th>\n",
       "      <th></th>\n",
       "    </tr>\n",
       "  </thead>\n",
       "  <tbody>\n",
       "    <tr>\n",
       "      <th>Air</th>\n",
       "      <td>4927.00</td>\n",
       "      <td>4971.92</td>\n",
       "      <td>4965.92</td>\n",
       "      <td>4994.36</td>\n",
       "      <td>4984.57</td>\n",
       "    </tr>\n",
       "    <tr>\n",
       "      <th>Land</th>\n",
       "      <td>4994.90</td>\n",
       "      <td>4984.60</td>\n",
       "      <td>4914.57</td>\n",
       "      <td>4984.93</td>\n",
       "      <td>4840.07</td>\n",
       "    </tr>\n",
       "    <tr>\n",
       "      <th>Sea</th>\n",
       "      <td>4982.45</td>\n",
       "      <td>4990.24</td>\n",
       "      <td>4993.26</td>\n",
       "      <td>4915.51</td>\n",
       "      <td>4959.85</td>\n",
       "    </tr>\n",
       "  </tbody>\n",
       "</table>\n",
       "</div>"
      ],
      "text/plain": [
       "Category         Clothing  Electronics  Furniture  Machinery     Toys\n",
       "Shipping_Method                                                      \n",
       "Air               4927.00      4971.92    4965.92    4994.36  4984.57\n",
       "Land              4994.90      4984.60    4914.57    4984.93  4840.07\n",
       "Sea               4982.45      4990.24    4993.26    4915.51  4959.85"
      ]
     },
     "metadata": {},
     "output_type": "display_data"
    }
   ],
   "source": [
    "print(\"\\n Maximum Weight in KGs by Shipping Method and Category :\")\n",
    "\n",
    "cross_table_max_weight = sample.pivot_table(\n",
    "    index='Shipping_Method',\n",
    "    columns='Category',\n",
    "    values='Weight',\n",
    "    aggfunc='max'\n",
    ")\n",
    "\n",
    "# Display the resulting pivot table\n",
    "display(cross_table_max_weight)"
   ]
  },
  {
   "cell_type": "markdown",
   "id": "2ef91e07",
   "metadata": {},
   "source": [
    "#### Cross - Tabulation ( Count of products by their payment terms per Category)"
   ]
  },
  {
   "cell_type": "code",
   "execution_count": 21,
   "id": "a194fdf6",
   "metadata": {},
   "outputs": [
    {
     "name": "stdout",
     "output_type": "stream",
     "text": [
      "\n",
      " Count of products by their payment terms per Category :\n"
     ]
    },
    {
     "data": {
      "text/html": [
       "<style  type=\"text/css\" >\n",
       "</style><table id=\"T_26075_\" ><thead>    <tr>        <th class=\"index_name level0\" >Payment_Terms</th>        <th class=\"col_heading level0 col0\" >Cash on Delivery</th>        <th class=\"col_heading level0 col1\" >Net 30</th>        <th class=\"col_heading level0 col2\" >Net 60</th>        <th class=\"col_heading level0 col3\" >Prepaid</th>    </tr>    <tr>        <th class=\"index_name level0\" >Category</th>        <th class=\"blank\" ></th>        <th class=\"blank\" ></th>        <th class=\"blank\" ></th>        <th class=\"blank\" ></th>    </tr></thead><tbody>\n",
       "                <tr>\n",
       "                        <th id=\"T_26075_level0_row0\" class=\"row_heading level0 row0\" >Clothing</th>\n",
       "                        <td id=\"T_26075_row0_col0\" class=\"data row0 col0\" >106</td>\n",
       "                        <td id=\"T_26075_row0_col1\" class=\"data row0 col1\" >87</td>\n",
       "                        <td id=\"T_26075_row0_col2\" class=\"data row0 col2\" >90</td>\n",
       "                        <td id=\"T_26075_row0_col3\" class=\"data row0 col3\" >108</td>\n",
       "            </tr>\n",
       "            <tr>\n",
       "                        <th id=\"T_26075_level0_row1\" class=\"row_heading level0 row1\" >Electronics</th>\n",
       "                        <td id=\"T_26075_row1_col0\" class=\"data row1 col0\" >79</td>\n",
       "                        <td id=\"T_26075_row1_col1\" class=\"data row1 col1\" >108</td>\n",
       "                        <td id=\"T_26075_row1_col2\" class=\"data row1 col2\" >103</td>\n",
       "                        <td id=\"T_26075_row1_col3\" class=\"data row1 col3\" >93</td>\n",
       "            </tr>\n",
       "            <tr>\n",
       "                        <th id=\"T_26075_level0_row2\" class=\"row_heading level0 row2\" >Furniture</th>\n",
       "                        <td id=\"T_26075_row2_col0\" class=\"data row2 col0\" >104</td>\n",
       "                        <td id=\"T_26075_row2_col1\" class=\"data row2 col1\" >106</td>\n",
       "                        <td id=\"T_26075_row2_col2\" class=\"data row2 col2\" >95</td>\n",
       "                        <td id=\"T_26075_row2_col3\" class=\"data row2 col3\" >105</td>\n",
       "            </tr>\n",
       "            <tr>\n",
       "                        <th id=\"T_26075_level0_row3\" class=\"row_heading level0 row3\" >Machinery</th>\n",
       "                        <td id=\"T_26075_row3_col0\" class=\"data row3 col0\" >100</td>\n",
       "                        <td id=\"T_26075_row3_col1\" class=\"data row3 col1\" >93</td>\n",
       "                        <td id=\"T_26075_row3_col2\" class=\"data row3 col2\" >109</td>\n",
       "                        <td id=\"T_26075_row3_col3\" class=\"data row3 col3\" >109</td>\n",
       "            </tr>\n",
       "            <tr>\n",
       "                        <th id=\"T_26075_level0_row4\" class=\"row_heading level0 row4\" >Toys</th>\n",
       "                        <td id=\"T_26075_row4_col0\" class=\"data row4 col0\" >98</td>\n",
       "                        <td id=\"T_26075_row4_col1\" class=\"data row4 col1\" >96</td>\n",
       "                        <td id=\"T_26075_row4_col2\" class=\"data row4 col2\" >101</td>\n",
       "                        <td id=\"T_26075_row4_col3\" class=\"data row4 col3\" >111</td>\n",
       "            </tr>\n",
       "    </tbody></table>"
      ],
      "text/plain": [
       "<pandas.io.formats.style.Styler at 0x18d5397ef40>"
      ]
     },
     "execution_count": 21,
     "metadata": {},
     "output_type": "execute_result"
    }
   ],
   "source": [
    "print(\"\\n Count of products by their payment terms per Category :\")\n",
    "\n",
    "# Create pivot table with count of 'Products' for each category and payment term\n",
    "pivot_table = sample.pivot_table(\n",
    "    values='Product',\n",
    "    index='Category',\n",
    "    columns='Payment_Terms',\n",
    "    aggfunc='count'\n",
    ")\n",
    "\n",
    "# Display the pivot table with formatted output\n",
    "pivot_table.style.format({\n",
    "    '': '{:,.0f}'  # Format all values (product counts) with commas and no decimal places\n",
    "})"
   ]
  },
  {
   "cell_type": "markdown",
   "id": "3b05e564",
   "metadata": {},
   "source": [
    "### Rank categories based on the most preferred Category(i.e., highest total economic impact)"
   ]
  },
  {
   "cell_type": "code",
   "execution_count": 22,
   "id": "522e17db",
   "metadata": {},
   "outputs": [
    {
     "data": {
      "text/html": [
       "<div>\n",
       "<style scoped>\n",
       "    .dataframe tbody tr th:only-of-type {\n",
       "        vertical-align: middle;\n",
       "    }\n",
       "\n",
       "    .dataframe tbody tr th {\n",
       "        vertical-align: top;\n",
       "    }\n",
       "\n",
       "    .dataframe thead th {\n",
       "        text-align: right;\n",
       "    }\n",
       "</style>\n",
       "<table border=\"1\" class=\"dataframe\">\n",
       "  <thead>\n",
       "    <tr style=\"text-align: right;\">\n",
       "      <th></th>\n",
       "      <th>Total Economic Impact in $</th>\n",
       "      <th>Rank</th>\n",
       "    </tr>\n",
       "    <tr>\n",
       "      <th>Category</th>\n",
       "      <th></th>\n",
       "      <th></th>\n",
       "    </tr>\n",
       "  </thead>\n",
       "  <tbody>\n",
       "    <tr>\n",
       "      <th>Furniture</th>\n",
       "      <td>2096465.41</td>\n",
       "      <td>1.0</td>\n",
       "    </tr>\n",
       "    <tr>\n",
       "      <th>Machinery</th>\n",
       "      <td>2032988.72</td>\n",
       "      <td>2.0</td>\n",
       "    </tr>\n",
       "    <tr>\n",
       "      <th>Toys</th>\n",
       "      <td>1966707.86</td>\n",
       "      <td>3.0</td>\n",
       "    </tr>\n",
       "    <tr>\n",
       "      <th>Clothing</th>\n",
       "      <td>1942250.54</td>\n",
       "      <td>4.0</td>\n",
       "    </tr>\n",
       "    <tr>\n",
       "      <th>Electronics</th>\n",
       "      <td>1925278.52</td>\n",
       "      <td>5.0</td>\n",
       "    </tr>\n",
       "  </tbody>\n",
       "</table>\n",
       "</div>"
      ],
      "text/plain": [
       "             Total Economic Impact in $  Rank\n",
       "Category                                     \n",
       "Furniture                    2096465.41   1.0\n",
       "Machinery                    2032988.72   2.0\n",
       "Toys                         1966707.86   3.0\n",
       "Clothing                     1942250.54   4.0\n",
       "Electronics                  1925278.52   5.0"
      ]
     },
     "metadata": {},
     "output_type": "display_data"
    }
   ],
   "source": [
    "# Rank categories by the total economic impact (Value), higher value gets a higher rank\n",
    "economic_impact = sample.groupby('Category')['Value'].sum()\n",
    "\n",
    "# Rank the categories based on the summed Value in descending order (most preferred = rank 1)\n",
    "economic_impact_rank = economic_impact.rank(ascending=False, method='dense')\n",
    "\n",
    "# Combine the economic impact values and their rank into a DataFrame for better display\n",
    "economic_impact_rank_df = pd.DataFrame({\n",
    "    'Total Economic Impact in $': economic_impact,\n",
    "    'Rank': economic_impact_rank\n",
    "}).sort_values(by='Rank')\n",
    "\n",
    "# Display the DataFrame\n",
    "display(economic_impact_rank_df)\n"
   ]
  },
  {
   "cell_type": "markdown",
   "id": "aa2bea80-fd20-43d1-9b89-908e23bf404b",
   "metadata": {},
   "source": [
    "**Cross-Tabulation ( Country vs Import_Export)**"
   ]
  },
  {
   "cell_type": "code",
   "execution_count": 23,
   "id": "64eca280-ca7e-427a-91ef-2e51cf2d14cd",
   "metadata": {},
   "outputs": [
    {
     "data": {
      "text/plain": [
       "'Cross-tabulation of Country vs Import/Export: '"
      ]
     },
     "metadata": {},
     "output_type": "display_data"
    },
    {
     "data": {
      "text/html": [
       "<div>\n",
       "<style scoped>\n",
       "    .dataframe tbody tr th:only-of-type {\n",
       "        vertical-align: middle;\n",
       "    }\n",
       "\n",
       "    .dataframe tbody tr th {\n",
       "        vertical-align: top;\n",
       "    }\n",
       "\n",
       "    .dataframe thead th {\n",
       "        text-align: right;\n",
       "    }\n",
       "</style>\n",
       "<table border=\"1\" class=\"dataframe\">\n",
       "  <thead>\n",
       "    <tr style=\"text-align: right;\">\n",
       "      <th>Import_Export</th>\n",
       "      <th>Export</th>\n",
       "      <th>Import</th>\n",
       "    </tr>\n",
       "    <tr>\n",
       "      <th>Country</th>\n",
       "      <th></th>\n",
       "      <th></th>\n",
       "    </tr>\n",
       "  </thead>\n",
       "  <tbody>\n",
       "    <tr>\n",
       "      <th>Afghanistan</th>\n",
       "      <td>1</td>\n",
       "      <td>2</td>\n",
       "    </tr>\n",
       "    <tr>\n",
       "      <th>Albania</th>\n",
       "      <td>8</td>\n",
       "      <td>3</td>\n",
       "    </tr>\n",
       "    <tr>\n",
       "      <th>Algeria</th>\n",
       "      <td>3</td>\n",
       "      <td>7</td>\n",
       "    </tr>\n",
       "    <tr>\n",
       "      <th>American Samoa</th>\n",
       "      <td>4</td>\n",
       "      <td>5</td>\n",
       "    </tr>\n",
       "    <tr>\n",
       "      <th>Andorra</th>\n",
       "      <td>3</td>\n",
       "      <td>3</td>\n",
       "    </tr>\n",
       "  </tbody>\n",
       "</table>\n",
       "</div>"
      ],
      "text/plain": [
       "Import_Export   Export  Import\n",
       "Country                       \n",
       "Afghanistan          1       2\n",
       "Albania              8       3\n",
       "Algeria              3       7\n",
       "American Samoa       4       5\n",
       "Andorra              3       3"
      ]
     },
     "metadata": {},
     "output_type": "display_data"
    }
   ],
   "source": [
    "# Cross-tabulation of categorical variables\n",
    "country_vs_import_export = pd.crosstab(sample['Country'], sample['Import_Export']).head()\n",
    "\n",
    "display(\"Cross-tabulation of Country vs Import/Export: \", country_vs_import_export)"
   ]
  },
  {
   "cell_type": "markdown",
   "id": "a4382045-e06d-46ee-bd8f-609a5acd97ca",
   "metadata": {},
   "source": [
    "# Top 5 Countries in Import/Export:\n",
    "The cross-tabulation shows how different countries engage in trade. While Albania is the only country to lean more toward exports,Afghanistan,Algeria, American Samoa primarily focuses on imports. Andorra shows a balanced trade pattern."
   ]
  },
  {
   "cell_type": "markdown",
   "id": "100cb7ce-83c0-417f-a59a-b00b559d5f98",
   "metadata": {},
   "source": [
    "**Inferential Statistics**"
   ]
  },
  {
   "cell_type": "code",
   "execution_count": 24,
   "id": "ce6000a9-cf8a-4af6-baf6-1e0a0c3d641d",
   "metadata": {},
   "outputs": [
    {
     "name": "stdout",
     "output_type": "stream",
     "text": [
      "t-statistic: 0.316\n",
      "p-value: 0.752\n"
     ]
    }
   ],
   "source": [
    "from scipy import stats\n",
    "\n",
    "# Subsetting data for imports and exports\n",
    "import_data = sample[sample['Import_Export'] == 'Import']['Value']\n",
    "export_data = sample[sample['Import_Export'] == 'Export']['Value']\n",
    "\n",
    "# t-test to compare means of import vs export values\n",
    "t_stat, p_value = np.round(stats.ttest_ind(import_data, export_data),3)\n",
    "\n",
    "print(\"t-statistic:\", t_stat)\n",
    "print(\"p-value:\", p_value)"
   ]
  },
  {
   "cell_type": "markdown",
   "id": "67ac5208-2b52-45b4-9868-5edf79d8ca75",
   "metadata": {},
   "source": [
    "**Chi-Square Test for Categorical Variables ( Country vs Import_Export)**"
   ]
  },
  {
   "cell_type": "code",
   "execution_count": 25,
   "id": "c85ea1d7-adf9-4d9c-8973-092387b4cd41",
   "metadata": {},
   "outputs": [
    {
     "name": "stdout",
     "output_type": "stream",
     "text": [
      "Chi-squared Statistic: 262.37129162312965\n",
      "p-value: 0.17585097315635673\n"
     ]
    }
   ],
   "source": [
    "# Chi-squared test of independence between Country and Import_Export\n",
    "contingency_table = pd.crosstab(sample['Country'], sample['Import_Export'])\n",
    "chi2_stat, p_val, dof, ex = stats.chi2_contingency(contingency_table)\n",
    "\n",
    "print(\"Chi-squared Statistic:\", chi2_stat)\n",
    "print(\"p-value:\", p_val)"
   ]
  },
  {
   "cell_type": "markdown",
   "id": "c8c092ed-fea7-48d3-b5b8-7d2856b3b89b",
   "metadata": {},
   "source": [
    "**ANOVA (Compare Value Across Different Product Categories)**"
   ]
  },
  {
   "cell_type": "code",
   "execution_count": 26,
   "id": "cdb581b3-942f-44d0-a130-3154d4d0a019",
   "metadata": {},
   "outputs": [
    {
     "name": "stdout",
     "output_type": "stream",
     "text": [
      "ANOVA F-statistic: 0.9384558377054041\n",
      "p-value: 0.8387860362678493\n"
     ]
    }
   ],
   "source": [
    "product_groups = [group['Value'].values for name, group in sample.groupby('Product')]\n",
    "\n",
    "f_stat, p_value = stats.f_oneway(*product_groups)\n",
    "\n",
    "print(\"ANOVA F-statistic:\", f_stat)\n",
    "print(\"p-value:\", p_value)"
   ]
  },
  {
   "cell_type": "markdown",
   "id": "e065b180-e0aa-48fa-aa79-0cc00711a4fb",
   "metadata": {},
   "source": [
    "##  **Visualization**"
   ]
  },
  {
   "cell_type": "code",
   "execution_count": 27,
   "id": "5c098c4c-10da-416b-ad4e-b57b0f453cb3",
   "metadata": {},
   "outputs": [
    {
     "data": {
      "image/png": "[encoded data removed]",
      "text/plain": [
       "<Figure size 432x288 with 1 Axes>"
      ]
     },
     "metadata": {
      "needs_background": "light"
     },
     "output_type": "display_data"
    }
   ],
   "source": [
    "\n",
    "# Getting the top 10 categories by frequency or total value\n",
    "top_10_categories = sample['Product'].value_counts().nlargest(10).index\n",
    "\n",
    "# Filtering the DataFrame to only include the top 10 categories\n",
    "top_10_sample = sample[sample['Product'].isin(top_10_categories)]\n",
    "\n",
    "# Boxplot for value based on top 10 product categories\n",
    "sns.boxplot(x='Product', y='Value', data=top_10_sample)\n",
    "plt.title('Boxplot of Value by Top 10 Products')\n",
    "plt.xticks(rotation=90)\n",
    "plt.show()"
   ]
  },
  {
   "cell_type": "markdown",
   "id": "2147af8d-b30b-4db8-812a-0539520a0778",
   "metadata": {},
   "source": [
    "**Scatter Plot of Quantity vs Value**"
   ]
  },
  {
   "cell_type": "code",
   "execution_count": 28,
   "id": "c5537336-ed12-45e3-9d08-38b38009d9f0",
   "metadata": {},
   "outputs": [
    {
     "data": {
      "image/png": "[encoded data removed]",
      "text/plain": [
       "<Figure size 432x288 with 1 Axes>"
      ]
     },
     "metadata": {
      "needs_background": "light"
     },
     "output_type": "display_data"
    }
   ],
   "source": [
    "# Scatter plot of Quantity vs Value\n",
    "plt.scatter(sample['Quantity'], sample['Value'],color='yellow')\n",
    "plt.title('Scatter Plot of Quantity vs Value')\n",
    "plt.xlabel('Quantity')\n",
    "plt.ylabel('Value')\n",
    "plt.show()"
   ]
  },
  {
   "cell_type": "markdown",
   "id": "d30bb7f4-1707-4fa3-a47f-0b283963be02",
   "metadata": {},
   "source": [
    "Pie Chart for payment terms"
   ]
  },
  {
   "cell_type": "code",
   "execution_count": 29,
   "id": "4557f7ea-379f-4e0a-ad9c-f050c7fcb6b9",
   "metadata": {},
   "outputs": [
    {
     "data": {
      "image/png": "[encoded data removed]",
      "text/plain": [
       "<Figure size 432x288 with 1 Axes>"
      ]
     },
     "metadata": {},
     "output_type": "display_data"
    }
   ],
   "source": [
    "prepaid = 0 \n",
    "net30 = 0\n",
    "cod = 0\n",
    "net60 = 0\n",
    "\n",
    "# Loop to count payment terms\n",
    "for i in range(len(sample['Payment_Terms'])):\n",
    "    payment_term = sample['Payment_Terms'].iloc[i] \n",
    "    \n",
    "    if payment_term == 'Prepaid':\n",
    "        prepaid += 1  # Increment the count for prepaid\n",
    "    elif payment_term == 'Net 30':\n",
    "        net30 += 1  # Increment the count for Net 30\n",
    "    elif payment_term == 'Cash on Delivery':\n",
    "        cod += 1  # Increment the count for Cash on Delivery\n",
    "    elif payment_term == 'Net 60':\n",
    "        net60 += 1  # Increment the count for Net 60\n",
    "\n",
    "# Data for pie plot\n",
    "Payment_Terms = [prepaid, net30, cod, net60]\n",
    "labels = ['Prepaid', 'Net 30', 'Cash on Delivery', 'Net 60']\n",
    "\n",
    "# Creating pie plot with percentage labels\n",
    "plt.pie(Payment_Terms, labels=labels, autopct=lambda p: f'{p:.2f}%')\n",
    "plt.title('Pie Plot of Payment Terms')\n",
    "plt.show()"
   ]
  },
  {
   "cell_type": "markdown",
   "id": "cfbf6652-ed5d-44c1-9f60-13be81859f21",
   "metadata": {},
   "source": [
    "Through pie chart we can say that all 4 payment terms are more or less are equally preferred during the transactions \n",
    "The highly preferred one is Prepaid with 26.29% of the total weightage."
   ]
  },
  {
   "cell_type": "markdown",
   "id": "5b5f0b6b-18cb-4e99-bd46-85ebd3cf57a2",
   "metadata": {},
   "source": [
    "**Histogram of Value**"
   ]
  },
  {
   "cell_type": "code",
   "execution_count": 30,
   "id": "67f49450-f86d-451a-a6cd-11a40def8b6a",
   "metadata": {},
   "outputs": [
    {
     "data": {
      "image/png": "[encoded data removed]",
      "text/plain": [
       "<Figure size 432x288 with 1 Axes>"
      ]
     },
     "metadata": {
      "needs_background": "light"
     },
     "output_type": "display_data"
    }
   ],
   "source": [
    "# Histogram of the 'Value' column\n",
    "plt.hist(sample['Value'], bins=20, edgecolor='k',color='green')\n",
    "plt.title('Histogram of Transaction Values')\n",
    "plt.xlabel('Value')\n",
    "plt.ylabel('Frequency')\n",
    "plt.show()"
   ]
  },
  {
   "cell_type": "markdown",
   "id": "cb5d6134-d50b-4e68-8502-599eb3f03fec",
   "metadata": {},
   "source": [
    "# NON-CATEGORICAL DATA"
   ]
  },
  {
   "cell_type": "markdown",
   "id": "011429e6-8c01-48ac-a446-39e572431c7c",
   "metadata": {},
   "source": [
    "# COMPOSITE MEASURE"
   ]
  },
  {
   "cell_type": "code",
   "execution_count": 31,
   "id": "9d2647f5-6acd-4dc6-a2fb-107b6fa850a8",
   "metadata": {},
   "outputs": [
    {
     "name": "stdout",
     "output_type": "stream",
     "text": [
      "Coefficient of variation for Quantity :  0.5654575519538744\n",
      "Coefficient of variation for Value :  0.5761126518673741\n",
      "Coefficient of variation for Weight :  0.5791732176928227\n"
     ]
    }
   ],
   "source": [
    "import statistics as stats\n",
    "\n",
    "# coefficient of quantity\n",
    "Coeff_Var_Quantity = stats.stdev(non_categorical_df['Quantity'])/stats.mean(non_categorical_df['Quantity'])\n",
    "print('Coefficient of variation for Quantity : ', Coeff_Var_Quantity)\n",
    "\n",
    "Coeff_Var_Value = stats.stdev(non_categorical_df['Value'])/stats.mean(non_categorical_df['Value'])\n",
    "print('Coefficient of variation for Value : ', Coeff_Var_Value)\n",
    "\n",
    "# coefficient of weight\n",
    "Coeff_Var_Weight = stats.stdev(non_categorical_df['Weight'])/stats.mean(non_categorical_df['Weight'])\n",
    "print('Coefficient of variation for Weight : ', Coeff_Var_Weight) "
   ]
  },
  {
   "cell_type": "code",
   "execution_count": 32,
   "id": "563187bc-9ca7-4eab-b834-d5ffd55f5f13",
   "metadata": {},
   "outputs": [
    {
     "data": {
      "text/plain": [
       "0.01060676322595199"
      ]
     },
     "execution_count": 32,
     "metadata": {},
     "output_type": "execute_result"
    }
   ],
   "source": [
    "# correlation between quantity and weight\n",
    "non_categorical_df['Quantity'].corr(non_categorical_df['Weight'])"
   ]
  },
  {
   "cell_type": "markdown",
   "id": "eb388e72-277b-4cb3-a5fc-03133334ed3a",
   "metadata": {},
   "source": [
    "# Correlation between Quantities and Weights\n",
    "\n",
    "The correlation between the quantities and the weights is 0.01060676322595199, which indicates a very weak correlation between the two. This suggests that there is almost no linear relationship between quantity and weight. Two possible reasons for this weak correlation might be:\n",
    "\n",
    "In a manufacturing setting, if you measure the weight of products and their quantities, a very weak correlation could indicate that weight doesn’t scale linearly with quantity, possibly due to varying product types, sizes, or materials.\n",
    "\n",
    "For consumer goods where packaging varies, the quantity and weight may not have a strong linear relationship due to differences in packaging materials and product sizes. For instance, lighter products might be packaged in bulk, while heavier ones might come in smaller quantities."
   ]
  },
  {
   "cell_type": "code",
   "execution_count": 33,
   "id": "e9dc4ba3-c6d1-4a87-a9bc-e9639fd46016",
   "metadata": {},
   "outputs": [
    {
     "data": {
      "text/plain": [
       "-0.044883738653761704"
      ]
     },
     "execution_count": 33,
     "metadata": {},
     "output_type": "execute_result"
    }
   ],
   "source": [
    "# correlation between quantity and Value\n",
    "non_categorical_df['Quantity'].corr(non_categorical_df['Value'])"
   ]
  },
  {
   "cell_type": "markdown",
   "id": "e8d18426-0fcd-4220-b68a-810fc6b39fb7",
   "metadata": {},
   "source": [
    "# Correlation between Quantity and Value \n",
    "\n",
    "The correlation is very weakly negative (-0.044883738653761704), indicating that quantity is very weakly inversely correlated with the transaction value. This suggests that as the quantity increases, the transaction value tends to decrease slightly, but the relationship is almost negligible.\n",
    "\n",
    "Several factors could contribute to this weak negative correlation, such as:\n",
    "\n",
    "Market trends: Shifts in supply and demand can impact both quantity and value differently.\n",
    "Discounts and promotions: Larger quantities might be associated with bulk discounts, leading to a decrease in the overall transaction value per unit.\n",
    "Customer demographics: Different customer segments may purchase varying quantities at different price points, leading to a weak and inconsistent relationship between quantity and value."
   ]
  },
  {
   "cell_type": "code",
   "execution_count": 34,
   "id": "8e53b94b-fe5f-4dd2-9a2e-060e460be7c4",
   "metadata": {},
   "outputs": [],
   "source": [
    "import numpy as np\n",
    "import scipy.stats as stats"
   ]
  },
  {
   "cell_type": "code",
   "execution_count": 35,
   "id": "cfd87f6d-f75e-4857-bcc6-c058354ea2df",
   "metadata": {},
   "outputs": [
    {
     "data": {
      "text/plain": [
       "(4926.471198963305, 5176.941094889768)"
      ]
     },
     "execution_count": 35,
     "metadata": {},
     "output_type": "execute_result"
    }
   ],
   "source": [
    "# calculation confidence interval for quantity\n",
    "\n",
    "mean = np.mean(non_categorical_df['Quantity'])\n",
    "std_error = stats.sem(non_categorical_df['Quantity'])\n",
    "\n",
    "confidence = 0.95 # 95% comfidence level\n",
    "margin_of_error = std_error * stats.t.ppf((1 + confidence) / 2., len(non_categorical_df['Quantity']) - 1)\n",
    "confidence_interval = (mean - margin_of_error, mean + margin_of_error)\n",
    "\n",
    "confidence_interval"
   ]
  },
  {
   "cell_type": "markdown",
   "id": "b2e8ad32-0556-4809-8355-3a81cafbf5e3",
   "metadata": {},
   "source": [
    "# confidence interval of Quantity\n",
    "This will tells us that the actual average quantity of transactions (including import and export, for the whole dataset) will lie in between (4926.471198963305, 5176.941094889768).\n"
   ]
  },
  {
   "cell_type": "code",
   "execution_count": 36,
   "id": "8bda1bb9-5058-496a-9c3e-cd04f78ebb69",
   "metadata": {},
   "outputs": [
    {
     "data": {
      "text/plain": [
       "(2425.602132907107, 2551.9929395566583)"
      ]
     },
     "execution_count": 36,
     "metadata": {},
     "output_type": "execute_result"
    }
   ],
   "source": [
    "# calculation confidence interval for Weights\n",
    "\n",
    "mean = np.mean(non_categorical_df['Weight'])\n",
    "std_error = stats.sem(non_categorical_df['Weight'])\n",
    "\n",
    "confidence = 0.95 # 95% comfidence level\n",
    "margin_of_error = std_error * stats.t.ppf((1 + confidence) / 2., len(non_categorical_df['Weight']) - 1)\n",
    "confidence_interval = (mean - margin_of_error, mean + margin_of_error)\n",
    "\n",
    "confidence_interval"
   ]
  },
  {
   "cell_type": "markdown",
   "id": "533395e1-79c8-48a6-b8f7-3a2629f17a71",
   "metadata": {},
   "source": [
    "# confidence interval of Weight\n",
    "This will tells us that the actual average weight of transactions (including import and export, for the whole dataset) will lie in between (2425.602132907107, 2551.9929395566583)."
   ]
  },
  {
   "cell_type": "code",
   "execution_count": 37,
   "id": "1eef1f23-70b2-43e5-80e3-d718ae24eec2",
   "metadata": {},
   "outputs": [],
   "source": [
    "# <<---------- end of composite measure ------------>>"
   ]
  },
  {
   "cell_type": "markdown",
   "id": "0ad9957e-5eae-4564-a0d6-31408794e8ca",
   "metadata": {},
   "source": [
    "# INFERENTIAL STATISTICS"
   ]
  },
  {
   "cell_type": "markdown",
   "id": "f9a86f34-a17c-496b-a1ca-1e485a3c1e00",
   "metadata": {},
   "source": [
    "# TEST OF MEAN"
   ]
  },
  {
   "cell_type": "markdown",
   "id": "c0c7e61f-65fe-482d-ab6b-bb733cef6316",
   "metadata": {},
   "source": [
    "# T - test\n",
    " As the columns belongs to same dataset and are information about same entity we will\n",
    " perform paired T - test. "
   ]
  },
  {
   "cell_type": "code",
   "execution_count": 38,
   "id": "230f5a4a-6810-484d-a5fc-8dc6245209cd",
   "metadata": {},
   "outputs": [
    {
     "name": "stdout",
     "output_type": "stream",
     "text": [
      "T-Statistic, p_value and df:  Ttest_relResult(statistic=35.98490501853953, pvalue=4.3634555223371636e-219)\n",
      "Signifiance difference between the means\n"
     ]
    }
   ],
   "source": [
    "# Test on Quantity and Weight\n",
    "t_stats1 = stats.ttest_rel(non_categorical_df['Quantity'], non_categorical_df['Weight'])\n",
    "print('T-Statistic, p_value and df: ', t_stats1)\n",
    "\n",
    "significance_level = 0.05\n",
    "\n",
    "if t_stats1.pvalue < significance_level:\n",
    "    print('Signifiance difference between the means')\n",
    "else:\n",
    "    print('No Signifiance difference between the means')"
   ]
  },
  {
   "cell_type": "code",
   "execution_count": 39,
   "id": "2b2de57e-c181-49b0-8215-fbb0dac51dc6",
   "metadata": {},
   "outputs": [
    {
     "name": "stdout",
     "output_type": "stream",
     "text": [
      "T-Statistic, p_value and df:  Ttest_relResult(statistic=0.7820845268050713, pvalue=0.43425747842214335)\n",
      "No Signifiance difference between the means\n"
     ]
    }
   ],
   "source": [
    "# Test on Quantity and Value\n",
    "t_stats2 = stats.ttest_rel(non_categorical_df['Quantity'], non_categorical_df['Value'])\n",
    "print('T-Statistic, p_value and df: ', t_stats2)\n",
    "\n",
    "\n",
    "significance_level = 0.05\n",
    "\n",
    "if t_stats2.pvalue < significance_level:\n",
    "    print('Signifiance difference between the means')\n",
    "else:\n",
    "    print('No Signifiance difference between the means')"
   ]
  },
  {
   "cell_type": "code",
   "execution_count": 40,
   "id": "f24ca2bf-9205-45ec-8931-aad6bfec7d49",
   "metadata": {},
   "outputs": [
    {
     "name": "stdout",
     "output_type": "stream",
     "text": [
      "T-Statistic, p_value and df:  Ttest_relResult(statistic=-34.601642762115695, pvalue=5.18185417913192e-206)\n",
      "Signifiance difference between the means\n"
     ]
    }
   ],
   "source": [
    "# Test on Weight and Value\n",
    "t_stats3 = stats.ttest_rel(non_categorical_df['Weight'], non_categorical_df['Value'])\n",
    "print('T-Statistic, p_value and df: ', t_stats3)\n",
    "\n",
    "\n",
    "significance_level = 0.05\n",
    "\n",
    "if t_stats3.pvalue < significance_level:\n",
    "    print('Signifiance difference between the means')\n",
    "else:\n",
    "    print('No Signifiance difference between the means')"
   ]
  },
  {
   "cell_type": "code",
   "execution_count": 41,
   "id": "d2e4bc89-f088-401f-bd4c-a84df2287fd7",
   "metadata": {},
   "outputs": [],
   "source": [
    "# <<--------- end of test of Mean ------------->>"
   ]
  },
  {
   "cell_type": "markdown",
   "id": "168e8b64-03e9-4679-b6fd-a34b53965991",
   "metadata": {},
   "source": [
    "# Test of variance:\n",
    "\n",
    "1. F - TEST - using test on quantity and weight"
   ]
  },
  {
   "cell_type": "code",
   "execution_count": 42,
   "id": "def0982a-62d0-4971-b82d-c1763eac77da",
   "metadata": {},
   "outputs": [
    {
     "name": "stdout",
     "output_type": "stream",
     "text": [
      "Variance of Quantity :  8159737.309607201\n",
      "Variance of Weight :  2077763.3341369752\n",
      "p_value for 2 tail:  2.22e-16\n",
      "The variances are significantly different\n"
     ]
    }
   ],
   "source": [
    "var_Quantity = np.var(non_categorical_df['Quantity'], ddof = 1)\n",
    "var_Weight = np.var(non_categorical_df['Weight'], ddof = 1)\n",
    "\n",
    "print('Variance of Quantity : ', var_Quantity)\n",
    "print('Variance of Weight : ', var_Weight)\n",
    "\n",
    "F = var_Quantity / var_Weight\n",
    "\n",
    "dof1 = len(non_categorical_df['Quantity']) - 1\n",
    "dof2 = len(non_categorical_df['Weight']) - 1\n",
    "\n",
    "p_value = 1 - stats.f.cdf(F, dof1, dof2) # cdf = cumulative distribution function\n",
    "\n",
    "p_value_2T = np.round(p_value * 2, 18)\n",
    "print(\"p_value for 2 tail: \", p_value_2T)\n",
    "\n",
    "significance_level = 0.05\n",
    "\n",
    "if (p_value_2T < significance_level):\n",
    "    print(\"The variances are significantly different\")\n",
    "\n",
    "else:\n",
    "    print(\"The variances are not significantly different\")"
   ]
  },
  {
   "cell_type": "markdown",
   "id": "7266d9df-9ca6-43a9-8e30-3063f0d8385b",
   "metadata": {},
   "source": [
    "The cause of significantly different could be less variance of weight as comapre to quantity which also implies that weight is small spread around the mean as comapre to quantity.\n"
   ]
  },
  {
   "cell_type": "markdown",
   "id": "1a76051b-64e5-4f51-a43a-137143177e9d",
   "metadata": {},
   "source": [
    "2. LEVENE TEST - using test on quantity and value\n",
    "\n",
    "For this test lets assume that both entities have equal variance"
   ]
  },
  {
   "cell_type": "code",
   "execution_count": 43,
   "id": "d553dbef-aa90-4347-8b56-b62ba3d33eb0",
   "metadata": {},
   "outputs": [
    {
     "name": "stdout",
     "output_type": "stream",
     "text": [
      "levene's test stats:  0.09184756836434342\n",
      "p_value:  0.7618571248548698\n",
      "No significant difference between the variances\n"
     ]
    }
   ],
   "source": [
    "stat, p_value = stats.levene(non_categorical_df['Quantity'],non_categorical_df['Value'], center = 'median')\n",
    "print(\"levene's test stats: \", stat)\n",
    "print(\"p_value: \", p_value)\n",
    "\n",
    "significance_level = 0.05\n",
    "\n",
    "if p_value < significance_level:\n",
    "    print('Significant difference between the variances')\n",
    "\n",
    "else:\n",
    "    print('No significant difference between the variances')\n"
   ]
  },
  {
   "cell_type": "markdown",
   "id": "168e6a36-e324-4851-bf6a-6449f009f0de",
   "metadata": {},
   "source": [
    "3. BARTLETT TEST - using on weight and value"
   ]
  },
  {
   "cell_type": "code",
   "execution_count": 44,
   "id": "7e4b5b7e-9e0f-42d4-a29a-883f8f33efa8",
   "metadata": {},
   "outputs": [
    {
     "name": "stdout",
     "output_type": "stream",
     "text": [
      "Bartlett's Test Stats:  880.5181426665708\n",
      "P_Value:  1.6865288928683974e-193\n",
      "Significant difference between the variances\n"
     ]
    }
   ],
   "source": [
    "stat, p_value = stats.bartlett(non_categorical_df['Weight'], non_categorical_df['Value'])\n",
    "print(\"Bartlett's Test Stats: \", stat)\n",
    "print(\"P_Value: \", p_value)\n",
    "\n",
    "significance_level = 0.05\n",
    "\n",
    "if p_value < significance_level:\n",
    "    print('Significant difference between the variances')\n",
    "else:\n",
    "    print('No significant difference between the variances')"
   ]
  },
  {
   "cell_type": "markdown",
   "id": "4e3f5505-2f5a-452f-a926-ae55735930ed",
   "metadata": {},
   "source": [
    "# PERFORMING LEVENE AND BARTLETT TEST ON ALL QUANTITY, VALUE AND WEIGHT"
   ]
  },
  {
   "cell_type": "code",
   "execution_count": 45,
   "id": "5358c066-acfa-4ad3-9a40-a35a9d85e47c",
   "metadata": {},
   "outputs": [
    {
     "name": "stdout",
     "output_type": "stream",
     "text": [
      "levene's test stats:  655.1218545016941\n",
      "p_value:  4.551808761315898e-258\n",
      "Significant difference between the variances\n"
     ]
    }
   ],
   "source": [
    "stat, p_value = stats.levene(non_categorical_df['Quantity'],non_categorical_df['Value'],non_categorical_df['Weight'], center = 'median')\n",
    "print(\"levene's test stats: \", stat)\n",
    "print(\"p_value: \", p_value)\n",
    "\n",
    "significance_level = 0.05\n",
    "\n",
    "if p_value < significance_level:\n",
    "    print('Significant difference between the variances')\n",
    "\n",
    "else:\n",
    "    print('No significant difference between the variances')"
   ]
  },
  {
   "cell_type": "code",
   "execution_count": 46,
   "id": "f7b4015c-588e-4b63-aa74-af426c86a1d0",
   "metadata": {},
   "outputs": [
    {
     "name": "stdout",
     "output_type": "stream",
     "text": [
      "Bartlett's Test Stats:  1366.2771972119042\n",
      "P_Value:  2.073367326319347e-297\n",
      "Significant difference between the variances\n"
     ]
    }
   ],
   "source": [
    "stat, p_value = stats.bartlett(non_categorical_df['Weight'], non_categorical_df['Value'], non_categorical_df['Weight'])\n",
    "print(\"Bartlett's Test Stats: \", stat)\n",
    "print(\"P_Value: \", p_value)\n",
    "\n",
    "significance_level = 0.05\n",
    "\n",
    "if p_value < significance_level:\n",
    "    print('Significant difference between the variances')\n",
    "else:\n",
    "    print('No significant difference between the variances')"
   ]
  },
  {
   "cell_type": "code",
   "execution_count": 47,
   "id": "d6920cdf-c9cb-48d2-a063-dc82f43b8d56",
   "metadata": {},
   "outputs": [],
   "source": [
    "# <<------------------ end of test of Variance --------------->>"
   ]
  },
  {
   "cell_type": "markdown",
   "id": "047286c2-b773-4d00-a376-5ebb6045b729",
   "metadata": {},
   "source": [
    "# Test of PROPORTION"
   ]
  },
  {
   "cell_type": "markdown",
   "id": "f335025b-4c25-4a95-ae3f-f16986334789",
   "metadata": {},
   "source": [
    "# Z - TEST\n",
    "\n",
    "1. QUANTITY - checking proportion of quantity between 0 to 2000"
   ]
  },
  {
   "cell_type": "code",
   "execution_count": 48,
   "id": "9b9fd3c9-fcd7-4f6c-b66f-b67053035c6d",
   "metadata": {},
   "outputs": [
    {
     "name": "stdout",
     "output_type": "stream",
     "text": [
      "Sample proporation:  379\n",
      "Sample size:  2001\n",
      "hypothesized proportion 500\n",
      "Z-stats:  (-6.635207298243499e-16+10.836115854568336j)\n",
      "p_value:  0.0\n",
      "hypothesized proportion is significantly different from the proportion quantity\n"
     ]
    }
   ],
   "source": [
    "Pro_Quantity = 0 # Sample proportion\n",
    "for i in range(len(non_categorical_df['Quantity'])):\n",
    "    n = non_categorical_df['Quantity'].iloc[i]\n",
    "    if (0 <= n <= 2000):\n",
    "        Pro_Quantity += 1\n",
    "    \n",
    "Size_Quantity = len(non_categorical_df['Quantity'])\n",
    "\n",
    "print('Sample proporation: ', Pro_Quantity)\n",
    "print('Sample size: ', Size_Quantity)\n",
    "\n",
    "hypothesize_proportion = 500  # Hypothesized quantity proportion\n",
    "\n",
    "print('hypothesized proportion', hypothesize_proportion)\n",
    "\n",
    "standard_error = (hypothesize_proportion * (1 - hypothesize_proportion) / Size_Quantity) ** 0.5\n",
    "\n",
    "z_stats = (Pro_Quantity - hypothesize_proportion) / standard_error\n",
    "\n",
    "p_value = 2 * (1 - stats.norm.cdf(abs(z_stats)))\n",
    "\n",
    "print('Z-stats: ', z_stats)\n",
    "print('p_value: ', p_value)\n",
    "\n",
    "significance_level = 0.05\n",
    "\n",
    "if p_value < significance_level:\n",
    "    print('hypothesized proportion is significantly different from the proportion quantity')\n",
    "else:\n",
    "    print('hypothesized proportion is not significantly different from the proportion quantity')\n",
    "    "
   ]
  },
  {
   "cell_type": "markdown",
   "id": "4d5abd3a-2f16-4775-a714-520f70f04c9a",
   "metadata": {},
   "source": [
    "2. WEIGHT - checking proportion of weights between 4000 to 4300"
   ]
  },
  {
   "cell_type": "code",
   "execution_count": 49,
   "id": "e04a44e2-298a-4789-85e5-1489c1c0c2b0",
   "metadata": {},
   "outputs": [
    {
     "name": "stdout",
     "output_type": "stream",
     "text": [
      "Sample proporation:  126\n",
      "Sample size:  2001\n",
      "hypothesized proportion 100\n",
      "Z-stats:  (7.157480130075248e-16-11.68905211699988j)\n",
      "p_value:  0.0\n",
      "hypothesized proportion is significantly different from the proportion quantity\n"
     ]
    }
   ],
   "source": [
    "Pro_Weight = 0 # Sample proportion\n",
    "for i in range(len(non_categorical_df['Weight'])):\n",
    "    n = non_categorical_df['Weight'].iloc[i]\n",
    "    if (4000 <= n <= 4300):\n",
    "        Pro_Weight += 1\n",
    "    \n",
    "Size_Weight = len(non_categorical_df['Weight'])\n",
    "\n",
    "print('Sample proporation: ', Pro_Weight)\n",
    "print('Sample size: ', Size_Weight)\n",
    "\n",
    "hypothesize_proportion = 100  # Hypothesized quantity proportion\n",
    "\n",
    "print('hypothesized proportion', hypothesize_proportion)\n",
    "\n",
    "standard_error = (hypothesize_proportion * (1 - hypothesize_proportion) / Size_Weight) ** 0.5\n",
    "\n",
    "z_stats = (Pro_Weight - hypothesize_proportion) / standard_error\n",
    "\n",
    "p_value = 2 * (1 - stats.norm.cdf(abs(z_stats)))\n",
    "\n",
    "print('Z-stats: ', z_stats)\n",
    "print('p_value: ', p_value)\n",
    "\n",
    "significance_level = 0.05\n",
    "\n",
    "if p_value < significance_level:\n",
    "    print('hypothesized proportion is significantly different from the proportion quantity')\n",
    "else:\n",
    "    print('hypothesized proportion is not significantly different from the proportion quantity')\n",
    "    "
   ]
  },
  {
   "cell_type": "markdown",
   "id": "4a0dfc0e-d1cb-4f65-9e76-2a7fc1c1f7a1",
   "metadata": {},
   "source": [
    "3. VALUE - checking proportion of weights between 2600 to 3000"
   ]
  },
  {
   "cell_type": "code",
   "execution_count": 50,
   "id": "81505208-767a-489a-a6ec-ec94cb1b4446",
   "metadata": {},
   "outputs": [
    {
     "name": "stdout",
     "output_type": "stream",
     "text": [
      "Sample proporation:  89\n",
      "Sample size:  2001\n",
      "hypothesized proportion 50\n",
      "Z-stats:  (4.205667655726363e-15-68.6837651256593j)\n",
      "p_value:  0.0\n",
      "hypothesized proportion is significantly different from the proportion quantity\n"
     ]
    }
   ],
   "source": [
    "Pro_Value = 0 # Sample proportion\n",
    "for i in range(len(non_categorical_df['Value'])):\n",
    "    n = non_categorical_df['Value'].iloc[i]\n",
    "    if (2600 <= n <= 3000):\n",
    "        Pro_Value += 1\n",
    "    \n",
    "Size_Value = len(non_categorical_df['Value'])\n",
    "\n",
    "print('Sample proporation: ', Pro_Value)\n",
    "print('Sample size: ', Size_Value)\n",
    "\n",
    "hypothesize_proportion = 50  # Hypothesized quantity proportion\n",
    "\n",
    "print('hypothesized proportion', hypothesize_proportion)\n",
    "\n",
    "standard_error = (hypothesize_proportion * (1 - hypothesize_proportion) / Size_Value) ** 0.5\n",
    "\n",
    "z_stats = (Pro_Weight - hypothesize_proportion) / standard_error\n",
    "\n",
    "p_value = 2 * (1 - stats.norm.cdf(abs(z_stats)))\n",
    "\n",
    "print('Z-stats: ', z_stats)\n",
    "print('p_value: ', p_value)\n",
    "\n",
    "significance_level = 0.05\n",
    "\n",
    "if p_value < significance_level:\n",
    "    print('hypothesized proportion is significantly different from the proportion quantity')\n",
    "else:\n",
    "    print('hypothesized proportion is not significantly different from the proportion quantity')\n",
    "    "
   ]
  },
  {
   "cell_type": "markdown",
   "id": "99b4a9f0-fd24-4d24-84df-ab5bd8898ece",
   "metadata": {},
   "source": [
    "In the above 3 z-test for Quantities, Weights and Values we have assumed some hypothesized proportion and checked if the actual sample proportion matches to it or not.\n",
    "this help to check assuptions about the same.\n",
    "    "
   ]
  },
  {
   "cell_type": "markdown",
   "id": "4eb26507-4d02-4a5d-a4fa-78581ce094e5",
   "metadata": {},
   "source": [
    "# chi - sq test"
   ]
  },
  {
   "cell_type": "code",
   "execution_count": 51,
   "id": "04a33a32-4591-401b-86e8-f56b2d48e95f",
   "metadata": {},
   "outputs": [
    {
     "name": "stdout",
     "output_type": "stream",
     "text": [
      "chi_stats:  5834885.737820156\n",
      "p_value:  0.0\n",
      "Significant difference in proportions between the samples\n"
     ]
    }
   ],
   "source": [
    "data = np.array([[non_categorical_df['Quantity']],\n",
    "                [non_categorical_df['Weight']],\n",
    "                [non_categorical_df['Value']]])\n",
    "chi_stats, p_Value,_,_ = stats.chi2_contingency(data, correction = False)\n",
    "\n",
    "print('chi_stats: ', chi_stats)\n",
    "print('p_value: ', p_value)\n",
    "\n",
    "significance_level = 0.05\n",
    "\n",
    "if p_value < significance_level:\n",
    "    print(\"Significant difference in proportions between the samples\")\n",
    "\n",
    "else:\n",
    "    print(\"No significant difference in proportions between the samples\")"
   ]
  },
  {
   "cell_type": "code",
   "execution_count": 52,
   "id": "184d4568-39ef-4167-9eb1-399c8fbc4b6c",
   "metadata": {},
   "outputs": [],
   "source": [
    "# <<---------- end of test of proportion ---------------->>"
   ]
  },
  {
   "cell_type": "markdown",
   "id": "d8f765bc-4937-4230-b894-247bb67e27b3",
   "metadata": {},
   "source": [
    "# TEST OF CORRELATION"
   ]
  },
  {
   "cell_type": "markdown",
   "id": "8c8b1a8f-d6a0-4698-81ef-5f869bc69d08",
   "metadata": {},
   "source": [
    "# T - TEST "
   ]
  },
  {
   "cell_type": "code",
   "execution_count": 53,
   "id": "40962746-7ef4-434b-bf1f-44195a8ec750",
   "metadata": {},
   "outputs": [],
   "source": [
    "import numpy as np\n",
    "from scipy import stats"
   ]
  },
  {
   "cell_type": "markdown",
   "id": "032916b5-af03-40f5-8333-7898c47a9469",
   "metadata": {},
   "source": [
    "# TEST OF NORMALITY"
   ]
  },
  {
   "cell_type": "markdown",
   "id": "5ba10e34-eb5c-4539-b152-1e316a3eba25",
   "metadata": {},
   "source": [
    "# 1. Shapiro-Wilk Test"
   ]
  },
  {
   "cell_type": "code",
   "execution_count": 54,
   "id": "2a592aab-e4c7-4ac8-ba4f-a05490c7fe12",
   "metadata": {},
   "outputs": [
    {
     "name": "stdout",
     "output_type": "stream",
     "text": [
      "Shapiro-wilk Test for:  Quantity\n",
      "Test stats:  0.9575700759887695  and p-value:  1.0423597793919735e-23\n",
      "Reject (sample does not appear to be normally distributed)\n",
      "\n",
      "\n",
      "Shapiro-wilk Test for:  Weight\n",
      "Test stats:  0.9559240341186523  and p-value:  3.9146772770876735e-24\n",
      "Reject (sample does not appear to be normally distributed)\n",
      "\n",
      "\n",
      "Shapiro-wilk Test for:  Value\n",
      "Test stats:  0.9530349373817444  and p-value:  7.48543259735104e-25\n",
      "Reject (sample does not appear to be normally distributed)\n"
     ]
    }
   ],
   "source": [
    "def shapiro_test(sample, name):\n",
    "    stat, p_value = stats.shapiro(sample)\n",
    "    print(\"Shapiro-wilk Test for: \", name)\n",
    "    print(\"Test stats: \", stat, \" and p-value: \", p_value)\n",
    "\n",
    "    significance_level = 0.05\n",
    "    if p_value > significance_level:\n",
    "        print(\"Fail to reject (sample is consistent with normality)\")\n",
    "    else:\n",
    "        print(\"Reject (sample does not appear to be normally distributed)\")\n",
    "\n",
    "\n",
    "shapiro_test(non_categorical_df['Quantity'], \"Quantity\")\n",
    "print(\"\\n\")\n",
    "shapiro_test(non_categorical_df['Weight'], \"Weight\")\n",
    "print(\"\\n\")\n",
    "shapiro_test(non_categorical_df['Value'], \"Value\")\n"
   ]
  },
  {
   "cell_type": "markdown",
   "id": "1d3d44c7-dd0f-46dd-9c6c-b976a952e8db",
   "metadata": {},
   "source": [
    "<span style=\"color: red; font-weight: bold; font-size: 30px\">2. Kolmogorov-Smirnov Test</span>"
   ]
  },
  {
   "cell_type": "markdown",
   "id": "df762ed6-68f1-47fe-a043-5d43e39a187d",
   "metadata": {},
   "source": [
    "Now as the above test gives us the result that they do not belong to normal distribution, let's first check weather they are from same distribution or not."
   ]
  },
  {
   "cell_type": "code",
   "execution_count": 55,
   "id": "65af3ddc-1649-43de-acf6-5e93a4137837",
   "metadata": {},
   "outputs": [],
   "source": [
    "import numpy as np\n",
    "from scipy import stats"
   ]
  },
  {
   "cell_type": "code",
   "execution_count": 56,
   "id": "0357027c-8ef2-4f63-8671-97050d79ee8a",
   "metadata": {},
   "outputs": [
    {
     "name": "stdout",
     "output_type": "stream",
     "text": [
      "Quantity and Weight test stats:  0.5092453773113443 p-value:  1.2094980941231152e-236\n",
      "Weight and Value test stats:  0.4987506246876562 p-value:  1.5729629640508664e-226\n",
      "Value and Quantity test stats:  0.03248375812093953 p-value:  0.24173587521303033\n",
      "\n",
      "\n",
      "Quantity and Weight are from different distribution (rejected)\n",
      "\n",
      "\n",
      "Weight and Value are from different distribution (rejected)\n",
      "\n",
      "\n",
      "Value and Quantity are from same distribution (fail to reject)\n"
     ]
    }
   ],
   "source": [
    "# performing K-S test\n",
    "statQ_W, p_valueQ_W = stats.ks_2samp(non_categorical_df['Quantity'], non_categorical_df['Weight'])\n",
    "statW_V, p_valueW_V = stats.ks_2samp(non_categorical_df['Weight'], non_categorical_df['Value'])\n",
    "statV_Q, p_valueV_Q = stats.ks_2samp(non_categorical_df['Value'], non_categorical_df['Quantity'])\n",
    "\n",
    "print('Quantity and Weight test stats: ', statQ_W, 'p-value: ', p_valueQ_W)\n",
    "print('Weight and Value test stats: ', statW_V, 'p-value: ', p_valueW_V)\n",
    "print('Value and Quantity test stats: ', statV_Q, 'p-value: ', p_valueV_Q)\n",
    "\n",
    "significance_level = 0.05\n",
    "print('\\n')\n",
    "\n",
    "if p_valueQ_W > significance_level:\n",
    "    print(\"Quantity and Weight are from same distribution (fail to reject)\")\n",
    "else:\n",
    "    print(\"Quantity and Weight are from different distribution (rejected)\")\n",
    "\n",
    "print('\\n')\n",
    "\n",
    "if p_valueW_V > significance_level:\n",
    "    print(\"Weight and Value are from same distribution (fail to reject)\")\n",
    "else:\n",
    "    print(\"Weight and Value are from different distribution (rejected)\")\n",
    "\n",
    "print('\\n')\n",
    "\n",
    "if p_valueV_Q > significance_level:\n",
    "    print(\"Value and Quantity are from same distribution (fail to reject)\")\n",
    "else:\n",
    "    print(\"Value and Quantity are from different distribution (rejected)\")\n"
   ]
  },
  {
   "cell_type": "markdown",
   "id": "2a5c0c29-0d7f-49c9-8bfa-149c6d6b5adf",
   "metadata": {},
   "source": [
    "Apart from Value and Quantity, they all neither normally distributed nor belongs to same distribution"
   ]
  },
  {
   "cell_type": "code",
   "execution_count": 57,
   "id": "75796499-1fd1-4d61-9ab1-3a7710ee27cf",
   "metadata": {},
   "outputs": [
    {
     "data": {
      "image/png": "[encoded data removed]",
      "text/plain": [
       "<Figure size 432x288 with 1 Axes>"
      ]
     },
     "metadata": {
      "needs_background": "light"
     },
     "output_type": "display_data"
    }
   ],
   "source": [
    "import matplotlib.pyplot as plt\n",
    "import seaborn as sns\n",
    "import numpy as np\n",
    "\n",
    "sns.histplot(non_categorical_df['Quantity'], kde = True, color = 'blue')\n",
    "plt.title('Distribution with Density Curve', fontsize=15)\n",
    "plt.xlabel('Data Values')\n",
    "plt.ylabel('Frequency')\n",
    "\n",
    "# Show the plot\n",
    "plt.show()"
   ]
  },
  {
   "cell_type": "code",
   "execution_count": 58,
   "id": "4c28d7ea-0156-4472-8388-acf38c8a1934",
   "metadata": {},
   "outputs": [
    {
     "data": {
      "image/png": "[encoded data removed]",
      "text/plain": [
       "<Figure size 432x288 with 1 Axes>"
      ]
     },
     "metadata": {
      "needs_background": "light"
     },
     "output_type": "display_data"
    }
   ],
   "source": [
    "sns.histplot(non_categorical_df['Weight'], kde = True, color = 'red')\n",
    "plt.title('Distribution with Density Curve', fontsize=15)\n",
    "plt.xlabel('Data Values')\n",
    "plt.ylabel('Frequency')\n",
    "\n",
    "# Show the plot\n",
    "plt.show()"
   ]
  },
  {
   "cell_type": "code",
   "execution_count": 59,
   "id": "729a1092-4540-4e2c-bba5-0cc234907dee",
   "metadata": {},
   "outputs": [
    {
     "data": {
      "image/png": "[encoded data removed]",
      "text/plain": [
       "<Figure size 432x288 with 1 Axes>"
      ]
     },
     "metadata": {
      "needs_background": "light"
     },
     "output_type": "display_data"
    }
   ],
   "source": [
    "sns.histplot(non_categorical_df['Value'], kde = True, color = 'blue')\n",
    "plt.title('Distribution with Density Curve', fontsize=15)\n",
    "plt.xlabel('Data Values')\n",
    "plt.ylabel('Frequency')\n",
    "\n",
    "# Show the plot\n",
    "plt.show()"
   ]
  },
  {
   "cell_type": "markdown",
   "id": "e0f71426",
   "metadata": {},
   "source": [
    "## Regression"
   ]
  },
  {
   "cell_type": "markdown",
   "id": "68dda9d1",
   "metadata": {},
   "source": [
    "### Second-Degree Polynomial Regression"
   ]
  },
  {
   "cell_type": "code",
   "execution_count": 60,
   "id": "65947ed6",
   "metadata": {},
   "outputs": [
    {
     "name": "stdout",
     "output_type": "stream",
     "text": [
      "[ 0.00000000e+00 -1.52303881e-02  2.51671819e-06]\n",
      "2463.5757695642374\n"
     ]
    }
   ],
   "source": [
    "#Second-Degree Polynomial Regression (Imports)Predict Weight based on Value for Import transactions               \n",
    "import numpy as np\n",
    "import pandas as pd\n",
    "from sklearn.preprocessing import PolynomialFeatures\n",
    "from sklearn.linear_model import LinearRegression\n",
    "\n",
    "# Filter for Import transactions\n",
    "df_imports = sample[sample['Import_Export'] == 'Import']  # Adjust condition based on your column\n",
    "\n",
    "# Define dependent and independent variables\n",
    "X = df_imports[['Quantity']]  # Replace with actual column name\n",
    "y = df_imports['Weight']  # Replace with actual column name\n",
    "\n",
    "# Transform the input for a polynomial regression (second degree)\n",
    "poly = PolynomialFeatures(degree=2)\n",
    "X_poly = poly.fit_transform(X)\n",
    "#Second-Degree Polynomial Regression (Imports)Predict Weight based on Value for Import transactions.\n",
    "# Fit the polynomial regression model\n",
    "model = LinearRegression()\n",
    "model.fit(X_poly, y)\n",
    "\n",
    "# Output the model coefficients\n",
    "print(model.coef_)\n",
    "print(model.intercept_)"
   ]
  },
  {
   "cell_type": "markdown",
   "id": "8512e849",
   "metadata": {},
   "source": [
    "#### Model Evaluation Metrics:\n",
    "\n",
    "Precision: The proportion of positive identifications that were actually correct.\n",
    "\n",
    "Recall: The proportion of actual positives that were correctly identified.\n",
    "\n",
    "F1-Score: The harmonic mean of precision and recall, providing a single metric that balances both.\n",
    "\n",
    "Support: The number of actual occurrences of the class in the specified dataset.\n",
    "\n",
    "\n",
    "#### Classification Report Summary:\n",
    "\n",
    "#### Export Transactions:\n",
    "\n",
    "Precision: 0.49\n",
    "Indicates that 49% of the transactions predicted as Export were correctly identified. This suggests a moderate level of accuracy in identifying Export transactions.\n",
    "\n",
    "Recall: 0.24\n",
    "Indicates that only 24% of the actual Export transactions were correctly identified. This shows that the model has a low recall for Export transactions, meaning many actual Export transactions are missed.\n",
    "\n",
    "F1-Score: 0.32\n",
    "This combines precision and recall into a single metric. The low F1-score reflects the challenges in balancing precision and recall for Export transactions.\n",
    "\n",
    "Support: 217\n",
    "The number of actual Export transactions in the dataset.\n",
    "\n",
    "#### Import Transactions:\n",
    "\n",
    "Precision: 0.44\n",
    "Indicates that 44% of the transactions predicted as Import were correctly identified. This reflects a somewhat lower accuracy in predicting Import transactions.\n",
    "\n",
    "Recall: 0.71\n",
    "Indicates that 71% of the actual Import transactions were correctly identified. This shows that the model is relatively better \n",
    "at identifying Import transactions compared to Export transactions.\n",
    "\n",
    "F1-Score: 0.54\n",
    "The F1-score is higher for Import transactions, indicating a better balance of precision and recall compared to Export transactions.\n",
    "\n",
    "Support: 184\n",
    "The number of actual Import transactions in the dataset.\n",
    "Overall Model Performance:\n",
    "\n",
    "Accuracy: 0.45\n",
    "The overall accuracy of the model is 45%, meaning the model correctly predicts the transaction type 45% of the time. This suggests that the model has limited predictive power and is not performing well overall.\n",
    "\n",
    "\n",
    "#### Macro Average:\n",
    "\n",
    "Precision: 0.47\n",
    "\n",
    "Recall: 0.47\n",
    "\n",
    "F1-Score: 0.43\n",
    "\n",
    "The macro averages provide an overall performance measure without considering class imbalance. The model's performance is relatively balanced across classes, but still modest.\n",
    "\n",
    "\n",
    "##### Weighted Average:\n",
    "\n",
    "Precision: 0.47\n",
    "\n",
    "Recall: 0.45\n",
    "\n",
    "F1-Score: 0.42\n",
    "\n",
    "The weighted averages consider the support for each class. The performance metrics are slightly lower compared to macro averages, reflecting the impact of class imbalance on the model's overall performance.\n",
    "\n",
    "\n",
    "#### Conclusion:\n",
    "\n",
    "The logistic regression model exhibits moderate performance with significant room for improvement. It struggles particularly with correctly identifying Export transactions, as evidenced by the low precision and recall for this class. While it performs better in identifying Import transactions, the overall accuracy of 45% suggests that the model is not highly effective in distinguishing between Import and Export transactions."
   ]
  },
  {
   "cell_type": "markdown",
   "id": "8df142fe",
   "metadata": {},
   "source": [
    "### Logisitic Regression"
   ]
  },
  {
   "cell_type": "code",
   "execution_count": 62,
   "id": "e111a4c7",
   "metadata": {},
   "outputs": [
    {
     "name": "stdout",
     "output_type": "stream",
     "text": [
      "              precision    recall  f1-score   support\n",
      "\n",
      "      Export       0.49      0.24      0.32       217\n",
      "      Import       0.44      0.71      0.54       184\n",
      "\n",
      "    accuracy                           0.45       401\n",
      "   macro avg       0.47      0.47      0.43       401\n",
      "weighted avg       0.47      0.45      0.42       401\n",
      "\n"
     ]
    }
   ],
   "source": [
    "#Logistic Regression-Predict whether a transaction is Import or Export based on Value and Weight.\n",
    "import pandas as pd\n",
    "from sklearn.linear_model import LogisticRegression\n",
    "from sklearn.model_selection import train_test_split\n",
    "from sklearn.metrics import classification_report\n",
    "\n",
    "# Define dependent and independent variables\n",
    "X = sample[['Value', 'Weight']]  # Use 'sample' as the DataFrame variable name\n",
    "y = sample['Import_Export']  # Ensure 'Import_Export' contains binary values\n",
    "\n",
    "# Split the data into training and testing sets\n",
    "X_train, X_test, y_train, y_test = train_test_split(X, y, test_size=0.2, random_state=42)\n",
    "\n",
    "# Fit the logistic regression model\n",
    "model = LogisticRegression()\n",
    "model.fit(X_train, y_train)\n",
    "\n",
    "# Predicting and evaluating the model\n",
    "y_pred = model.predict(X_test)\n",
    "print(classification_report(y_test, y_pred))"
   ]
  },
  {
   "cell_type": "markdown",
   "id": "e41070ba",
   "metadata": {},
   "source": [
    "### Cross-sectional Polynomial Regression"
   ]
  },
  {
   "cell_type": "code",
   "execution_count": 64,
   "id": "cabf327c",
   "metadata": {},
   "outputs": [
    {
     "name": "stdout",
     "output_type": "stream",
     "text": [
      "[ 0.00000000e+00  2.01529430e-01 -4.23033046e-05]\n",
      "5298.833709945156\n"
     ]
    }
   ],
   "source": [
    "#Cross-sectional Polynomial Regression (Top 5 Countries) - Model the relationship between Value and Quantity for transactions from the top 5 countries.\n",
    "import pandas as pd\n",
    "from sklearn.preprocessing import PolynomialFeatures\n",
    "from sklearn.linear_model import LinearRegression\n",
    "\n",
    "# Get the top 5 countries based on transaction count\n",
    "top_countries = sample['Country'].value_counts().head(5).index\n",
    "df_top = sample[sample['Country'].isin(top_countries)]\n",
    "\n",
    "# Define dependent and independent variables\n",
    "X = df_top[['Quantity']]  # Replace with actual column name\n",
    "y = df_top['Value']  # Replace with actual column name\n",
    "\n",
    "# Transform the input for a polynomial regression (second degree)\n",
    "poly = PolynomialFeatures(degree=2)\n",
    "X_poly = poly.fit_transform(X)\n",
    "\n",
    "# Fit the polynomial regression model\n",
    "model = LinearRegression()\n",
    "model.fit(X_poly, y)\n",
    "\n",
    "# Output the model coefficients\n",
    "print(model.coef_)\n",
    "print(model.intercept_)"
   ]
  }
 ],
 "metadata": {
  "kernelspec": {
   "display_name": "Python 3",
   "language": "python",
   "name": "python3"
  },
  "language_info": {
   "codemirror_mode": {
    "name": "ipython",
    "version": 3
   },
   "file_extension": ".py",
   "mimetype": "text/x-python",
   "name": "python",
   "nbconvert_exporter": "python",
   "pygments_lexer": "ipython3",
   "version": "3.8.8"
  }
 },
 "nbformat": 4,
 "nbformat_minor": 5
}
